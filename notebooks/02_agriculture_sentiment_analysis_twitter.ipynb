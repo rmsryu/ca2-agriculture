{
 "cells": [
  {
   "cell_type": "markdown",
   "metadata": {},
   "source": [
    "# Prerequisites\n",
    "\n",
    "- Python 3.10.4\n",
    "\n",
    "> Warning: Installation from conda environment may take few minutes\n",
    "\n",
    "Configuring conda environment\n",
    "\n",
    "```cmd\n",
    "conda activate ca2_env\n",
    "conda install matplotlib\n",
    "conda install pandas\n",
    "conda install nltk\n",
    "conda install scikit-learn\n",
    "conda install jsonpickle\n",
    "conda install -c conda-forge textblob\n",
    "conda install -c conda-forge tweepy\n",
    "conda install -c conda-forge pycountry\n",
    "conda install -c conda-forge wordcloud\n",
    "conda install -c conda-forge langdetect\n",
    "```\n",
    "\n",
    "References:\n",
    "https://towardsdatascience.com/step-by-step-twitter-sentiment-analysis-in-python-d6f650ade58d\n",
    "\n",
    "\n"
   ]
  },
  {
   "cell_type": "code",
   "execution_count": 3,
   "metadata": {},
   "outputs": [],
   "source": [
    "# Import Libraries\n",
    "from textblob import TextBlob\n",
    "import sys\n",
    "import tweepy\n",
    "import matplotlib.pyplot as plt\n",
    "import pandas as pd\n",
    "import numpy as np\n",
    "import jsonpickle\n",
    "import os\n",
    "import nltk\n",
    "import pycountry\n",
    "import re\n",
    "import string\n",
    "\n",
    "from wordcloud import WordCloud, STOPWORDS\n",
    "from PIL import Image\n",
    "from nltk.sentiment.vader import SentimentIntensityAnalyzer\n",
    "from langdetect import detect\n",
    "from nltk.stem import SnowballStemmer\n",
    "from nltk.sentiment.vader import SentimentIntensityAnalyzer\n",
    "from sklearn.feature_extraction.text import CountVectorizer"
   ]
  },
  {
   "cell_type": "code",
   "execution_count": 2,
   "metadata": {},
   "outputs": [],
   "source": [
    "#nltk.download('brown')\n",
    "#nltk.download('vader_lexicon')"
   ]
  },
  {
   "cell_type": "code",
   "execution_count": 39,
   "metadata": {},
   "outputs": [],
   "source": [
    "# Authentication\n",
    "api_key = \"Y0hENmxMwkILuxxY0yb9NHG0L\"\n",
    "api_secret = \"33OSFPPFNWlN3S9CvL5ok4ClBLjUdviC4zzpLs9aRBwJVzHPMA\"\n",
    "bearerToken = \"AAAAAAAAAAAAAAAAAAAAABoHcAEAAAAA78rV2Phg2vUbwTdcJ2QPGGji65M%3DsTr8DETODttIuwkHy9czi663YUpUPLDOVY2VqUzmBdshiJmLT3\"\n",
    "\n",
    "auth = tweepy.OAuth2BearerHandler(bearerToken)\n",
    "api = tweepy.API(auth)"
   ]
  },
  {
   "cell_type": "code",
   "execution_count": 56,
   "metadata": {},
   "outputs": [],
   "source": [
    "#Download tweets to json file\n",
    "def percentage(part,whole):\n",
    "     return 100 * float(part)/float(whole)\n",
    "\n",
    "query = \"(agriculture OR farmers) (price OR cost) (place_country:IE) (lang:en)\"\n",
    "environment = \"development\"\n",
    "fromDate = \"202201010000\"\n",
    "tweets = tweepy.Cursor(api.search_full_archive,label=environment,query=query,fromDate=fromDate).items()"
   ]
  },
  {
   "cell_type": "code",
   "execution_count": 92,
   "metadata": {},
   "outputs": [],
   "source": [
    "# Testing 7 days search\n",
    "#tweets = api.search_tweets(q=\"(agriculture OR farmers) (price OR cost) place_country:IE lang:en -is:retweet\", lang=\"en\", result_type=\"mixed\", count=100)\n",
    "tweets = tweepy.Cursor(api.search_tweets,q=\"(agriculture OR farmers) (price OR cost) lang:en -is:retweet\", lang=\"en\", result_type=\"mixed\", count=100).items(1)"
   ]
  },
  {
   "cell_type": "code",
   "execution_count": 93,
   "metadata": {},
   "outputs": [],
   "source": [
    "# Save tweets\n",
    "pd.json_normalize([t._json for t in tweets]).to_csv(\"../data/twitter/agriculture_farmers_2022.csv\")"
   ]
  },
  {
   "cell_type": "code",
   "execution_count": 94,
   "metadata": {},
   "outputs": [],
   "source": [
    "# Read from csv\n",
    "tweets_pd = pd.read_csv(\"../data/twitter/agriculture_farmers_2022.csv\", index_col=0)"
   ]
  },
  {
   "cell_type": "code",
   "execution_count": 95,
   "metadata": {},
   "outputs": [
    {
     "data": {
      "text/plain": [
       "Index(['created_at', 'id', 'id_str', 'text', 'truncated', 'source',\n",
       "       'in_reply_to_status_id', 'in_reply_to_status_id_str',\n",
       "       'in_reply_to_user_id', 'in_reply_to_user_id_str',\n",
       "       'in_reply_to_screen_name', 'geo', 'coordinates', 'place',\n",
       "       'contributors', 'is_quote_status', 'retweet_count', 'favorite_count',\n",
       "       'favorited', 'retweeted', 'lang', 'entities.hashtags',\n",
       "       'entities.symbols', 'entities.user_mentions', 'entities.urls',\n",
       "       'metadata.result_type', 'metadata.iso_language_code', 'user.id',\n",
       "       'user.id_str', 'user.name', 'user.screen_name', 'user.location',\n",
       "       'user.description', 'user.url', 'user.entities.description.urls',\n",
       "       'user.protected', 'user.followers_count', 'user.friends_count',\n",
       "       'user.listed_count', 'user.created_at', 'user.favourites_count',\n",
       "       'user.utc_offset', 'user.time_zone', 'user.geo_enabled',\n",
       "       'user.verified', 'user.statuses_count', 'user.lang',\n",
       "       'user.contributors_enabled', 'user.is_translator',\n",
       "       'user.is_translation_enabled', 'user.profile_background_color',\n",
       "       'user.profile_background_image_url',\n",
       "       'user.profile_background_image_url_https',\n",
       "       'user.profile_background_tile', 'user.profile_image_url',\n",
       "       'user.profile_image_url_https', 'user.profile_banner_url',\n",
       "       'user.profile_link_color', 'user.profile_sidebar_border_color',\n",
       "       'user.profile_sidebar_fill_color', 'user.profile_text_color',\n",
       "       'user.profile_use_background_image', 'user.has_extended_profile',\n",
       "       'user.default_profile', 'user.default_profile_image', 'user.following',\n",
       "       'user.follow_request_sent', 'user.notifications',\n",
       "       'user.translator_type', 'user.withheld_in_countries'],\n",
       "      dtype='object')"
      ]
     },
     "execution_count": 95,
     "metadata": {},
     "output_type": "execute_result"
    }
   ],
   "source": [
    "tweets_pd.columns"
   ]
  },
  {
   "cell_type": "code",
   "execution_count": 96,
   "metadata": {},
   "outputs": [
    {
     "data": {
      "text/plain": [
       "Index(['text'], dtype='object')"
      ]
     },
     "execution_count": 96,
     "metadata": {},
     "output_type": "execute_result"
    }
   ],
   "source": [
    "tweets_pd.columns[tweets_pd.columns.str.endswith(\"text\")]"
   ]
  },
  {
   "cell_type": "code",
   "execution_count": 97,
   "metadata": {},
   "outputs": [
    {
     "name": "stdout",
     "output_type": "stream",
     "text": [
      "created_at\n",
      "id\n",
      "id_str\n",
      "text\n",
      "truncated\n",
      "source\n",
      "in_reply_to_status_id\n",
      "in_reply_to_status_id_str\n",
      "in_reply_to_user_id\n",
      "in_reply_to_user_id_str\n",
      "in_reply_to_screen_name\n",
      "geo\n",
      "coordinates\n",
      "place\n",
      "contributors\n",
      "is_quote_status\n",
      "retweet_count\n",
      "favorite_count\n",
      "favorited\n",
      "retweeted\n",
      "lang\n",
      "entities.hashtags\n",
      "entities.symbols\n",
      "entities.user_mentions\n",
      "entities.urls\n",
      "metadata.result_type\n",
      "metadata.iso_language_code\n",
      "user.id\n",
      "user.id_str\n",
      "user.name\n",
      "user.screen_name\n",
      "user.location\n",
      "user.description\n",
      "user.url\n",
      "user.entities.description.urls\n",
      "user.protected\n",
      "user.followers_count\n",
      "user.friends_count\n",
      "user.listed_count\n",
      "user.created_at\n",
      "user.favourites_count\n",
      "user.utc_offset\n",
      "user.time_zone\n",
      "user.geo_enabled\n",
      "user.verified\n",
      "user.statuses_count\n",
      "user.lang\n",
      "user.contributors_enabled\n",
      "user.is_translator\n",
      "user.is_translation_enabled\n",
      "user.profile_background_color\n",
      "user.profile_background_image_url\n",
      "user.profile_background_image_url_https\n",
      "user.profile_background_tile\n",
      "user.profile_image_url\n",
      "user.profile_image_url_https\n",
      "user.profile_banner_url\n",
      "user.profile_link_color\n",
      "user.profile_sidebar_border_color\n",
      "user.profile_sidebar_fill_color\n",
      "user.profile_text_color\n",
      "user.profile_use_background_image\n",
      "user.has_extended_profile\n",
      "user.default_profile\n",
      "user.default_profile_image\n",
      "user.following\n",
      "user.follow_request_sent\n",
      "user.notifications\n",
      "user.translator_type\n",
      "user.withheld_in_countries\n"
     ]
    }
   ],
   "source": [
    "for c in tweets_pd.columns:\n",
    "    print(c)"
   ]
  },
  {
   "cell_type": "code",
   "execution_count": 98,
   "metadata": {},
   "outputs": [
    {
     "name": "stdout",
     "output_type": "stream",
     "text": [
      "<class 'pandas.core.frame.DataFrame'>\n",
      "Int64Index: 1 entries, 0 to 0\n",
      "Data columns (total 70 columns):\n",
      " #   Column                                   Non-Null Count  Dtype  \n",
      "---  ------                                   --------------  -----  \n",
      " 0   created_at                               1 non-null      object \n",
      " 1   id                                       1 non-null      int64  \n",
      " 2   id_str                                   1 non-null      int64  \n",
      " 3   text                                     1 non-null      object \n",
      " 4   truncated                                1 non-null      bool   \n",
      " 5   source                                   1 non-null      object \n",
      " 6   in_reply_to_status_id                    0 non-null      float64\n",
      " 7   in_reply_to_status_id_str                0 non-null      float64\n",
      " 8   in_reply_to_user_id                      0 non-null      float64\n",
      " 9   in_reply_to_user_id_str                  0 non-null      float64\n",
      " 10  in_reply_to_screen_name                  0 non-null      float64\n",
      " 11  geo                                      0 non-null      float64\n",
      " 12  coordinates                              0 non-null      float64\n",
      " 13  place                                    0 non-null      float64\n",
      " 14  contributors                             0 non-null      float64\n",
      " 15  is_quote_status                          1 non-null      bool   \n",
      " 16  retweet_count                            1 non-null      int64  \n",
      " 17  favorite_count                           1 non-null      int64  \n",
      " 18  favorited                                1 non-null      bool   \n",
      " 19  retweeted                                1 non-null      bool   \n",
      " 20  lang                                     1 non-null      object \n",
      " 21  entities.hashtags                        1 non-null      object \n",
      " 22  entities.symbols                         1 non-null      object \n",
      " 23  entities.user_mentions                   1 non-null      object \n",
      " 24  entities.urls                            1 non-null      object \n",
      " 25  metadata.result_type                     1 non-null      object \n",
      " 26  metadata.iso_language_code               1 non-null      object \n",
      " 27  user.id                                  1 non-null      int64  \n",
      " 28  user.id_str                              1 non-null      int64  \n",
      " 29  user.name                                1 non-null      object \n",
      " 30  user.screen_name                         1 non-null      object \n",
      " 31  user.location                            1 non-null      object \n",
      " 32  user.description                         1 non-null      object \n",
      " 33  user.url                                 0 non-null      float64\n",
      " 34  user.entities.description.urls           1 non-null      object \n",
      " 35  user.protected                           1 non-null      bool   \n",
      " 36  user.followers_count                     1 non-null      int64  \n",
      " 37  user.friends_count                       1 non-null      int64  \n",
      " 38  user.listed_count                        1 non-null      int64  \n",
      " 39  user.created_at                          1 non-null      object \n",
      " 40  user.favourites_count                    1 non-null      int64  \n",
      " 41  user.utc_offset                          0 non-null      float64\n",
      " 42  user.time_zone                           0 non-null      float64\n",
      " 43  user.geo_enabled                         1 non-null      bool   \n",
      " 44  user.verified                            1 non-null      bool   \n",
      " 45  user.statuses_count                      1 non-null      int64  \n",
      " 46  user.lang                                0 non-null      float64\n",
      " 47  user.contributors_enabled                1 non-null      bool   \n",
      " 48  user.is_translator                       1 non-null      bool   \n",
      " 49  user.is_translation_enabled              1 non-null      bool   \n",
      " 50  user.profile_background_color            1 non-null      int64  \n",
      " 51  user.profile_background_image_url        1 non-null      object \n",
      " 52  user.profile_background_image_url_https  1 non-null      object \n",
      " 53  user.profile_background_tile             1 non-null      bool   \n",
      " 54  user.profile_image_url                   1 non-null      object \n",
      " 55  user.profile_image_url_https             1 non-null      object \n",
      " 56  user.profile_banner_url                  1 non-null      object \n",
      " 57  user.profile_link_color                  1 non-null      object \n",
      " 58  user.profile_sidebar_border_color        1 non-null      int64  \n",
      " 59  user.profile_sidebar_fill_color          1 non-null      int64  \n",
      " 60  user.profile_text_color                  1 non-null      int64  \n",
      " 61  user.profile_use_background_image        1 non-null      bool   \n",
      " 62  user.has_extended_profile                1 non-null      bool   \n",
      " 63  user.default_profile                     1 non-null      bool   \n",
      " 64  user.default_profile_image               1 non-null      bool   \n",
      " 65  user.following                           0 non-null      float64\n",
      " 66  user.follow_request_sent                 0 non-null      float64\n",
      " 67  user.notifications                       0 non-null      float64\n",
      " 68  user.translator_type                     1 non-null      object \n",
      " 69  user.withheld_in_countries               1 non-null      object \n",
      "dtypes: bool(15), float64(16), int64(15), object(24)\n",
      "memory usage: 463.0+ bytes\n"
     ]
    }
   ],
   "source": [
    "tweets_pd.info()"
   ]
  },
  {
   "cell_type": "code",
   "execution_count": 100,
   "metadata": {},
   "outputs": [],
   "source": [
    "# Replace truncated with extended text\n",
    "tweets_pd[\"text\"] = tweets_pd.apply(lambda r: r[\"extended_tweet.full_text\"] if r[\"truncated\"] else r[\"text\"], axis=1)\n",
    "if(\"quoted_status.text\" in tweets_pd.columns):\n",
    "    tweets_pd[\"quoted_status.text\"] = tweets_pd.apply(lambda r: r[\"quoted_status.extended_tweet.full_text\"] if r[\"quoted_status.truncated\"] else r[\"quoted_status.text\"], axis=1)\n"
   ]
  },
  {
   "cell_type": "markdown",
   "metadata": {},
   "source": [
    "> split dataset by columns. Get quoted status info"
   ]
  },
  {
   "cell_type": "code",
   "execution_count": 101,
   "metadata": {},
   "outputs": [],
   "source": [
    "# Status tweets\n",
    "tweets_status_pd = tweets_pd[[c for c in tweets_pd.columns if not(c.startswith(\"quoted\"))]]\n",
    "tweets_status_pd.rename({\"place.full_name\":\"place\"}, axis=1, inplace=True)\n"
   ]
  },
  {
   "cell_type": "code",
   "execution_count": 102,
   "metadata": {},
   "outputs": [],
   "source": [
    "if(\"quoted_status.text\" in tweets_pd.columns):\n",
    "    # Quote status tweets\n",
    "    tweets_quoted_status_pd = tweets_pd[tweets_pd[\"is_quote_status\"]][tweets_pd.columns[tweets_pd.columns.str.startswith(\"quoted\")]]\n",
    "    # rename columns\n",
    "    tweets_quoted_status_pd.rename(mapper=lambda c: c.replace(\"quoted_status.\",\"\"), axis='columns', inplace=True)\n",
    "    # add dummy \"place.bounding_box.type\" and \"place.bounding_box.coordinates\"\n",
    "    tweets_quoted_status_pd[\"place.bounding_box.type\"] = None\n",
    "    tweets_quoted_status_pd[\"place.bounding_box.coordinates\"] = None"
   ]
  },
  {
   "cell_type": "code",
   "execution_count": 103,
   "metadata": {},
   "outputs": [],
   "source": [
    "if(\"quoted_status.text\" in tweets_pd.columns):\n",
    "    columns = [\"id\",\"geo\",\"coordinates\",\"reply_count\",\"favorite_count\", \"place\", \"text\" ,\"user.location\", \"place.bounding_box.type\", \"place.bounding_box.coordinates\"]\n",
    "    arr1 = tweets_quoted_status_pd[columns].to_numpy()\n",
    "    arr2 = tweets_status_pd[columns].to_numpy()\n",
    "    tweets_final_pd = pd.DataFrame(np.concatenate((arr1,arr2), axis=0), columns = columns)\n",
    "else:\n",
    "    tweets_final_pd =  tweets_status_pd"
   ]
  },
  {
   "cell_type": "code",
   "execution_count": 104,
   "metadata": {},
   "outputs": [],
   "source": [
    "tweets_final_pd.to_csv(\"final.csv\")"
   ]
  },
  {
   "cell_type": "code",
   "execution_count": 109,
   "metadata": {},
   "outputs": [
    {
     "data": {
      "text/html": [
       "<div>\n",
       "<style scoped>\n",
       "    .dataframe tbody tr th:only-of-type {\n",
       "        vertical-align: middle;\n",
       "    }\n",
       "\n",
       "    .dataframe tbody tr th {\n",
       "        vertical-align: top;\n",
       "    }\n",
       "\n",
       "    .dataframe thead th {\n",
       "        text-align: right;\n",
       "    }\n",
       "</style>\n",
       "<table border=\"1\" class=\"dataframe\">\n",
       "  <thead>\n",
       "    <tr style=\"text-align: right;\">\n",
       "      <th></th>\n",
       "      <th>created_at</th>\n",
       "      <th>id</th>\n",
       "      <th>id_str</th>\n",
       "      <th>text</th>\n",
       "      <th>truncated</th>\n",
       "      <th>source</th>\n",
       "      <th>in_reply_to_status_id</th>\n",
       "      <th>in_reply_to_status_id_str</th>\n",
       "      <th>in_reply_to_user_id</th>\n",
       "      <th>in_reply_to_user_id_str</th>\n",
       "      <th>...</th>\n",
       "      <th>user.profile_text_color</th>\n",
       "      <th>user.profile_use_background_image</th>\n",
       "      <th>user.has_extended_profile</th>\n",
       "      <th>user.default_profile</th>\n",
       "      <th>user.default_profile_image</th>\n",
       "      <th>user.following</th>\n",
       "      <th>user.follow_request_sent</th>\n",
       "      <th>user.notifications</th>\n",
       "      <th>user.translator_type</th>\n",
       "      <th>user.withheld_in_countries</th>\n",
       "    </tr>\n",
       "  </thead>\n",
       "  <tbody>\n",
       "    <tr>\n",
       "      <th>0</th>\n",
       "      <td>Sun May 01 10:24:24 +0000 2022</td>\n",
       "      <td>1520710722208083968</td>\n",
       "      <td>1520710722208083968</td>\n",
       "      <td>russians attempt to buy grain from Zaporizhzhi...</td>\n",
       "      <td>False</td>\n",
       "      <td>&lt;a href=\"http://twitter.com/download/android\" ...</td>\n",
       "      <td>NaN</td>\n",
       "      <td>NaN</td>\n",
       "      <td>NaN</td>\n",
       "      <td>NaN</td>\n",
       "      <td>...</td>\n",
       "      <td>0</td>\n",
       "      <td>False</td>\n",
       "      <td>False</td>\n",
       "      <td>False</td>\n",
       "      <td>False</td>\n",
       "      <td>NaN</td>\n",
       "      <td>NaN</td>\n",
       "      <td>NaN</td>\n",
       "      <td>none</td>\n",
       "      <td>[]</td>\n",
       "    </tr>\n",
       "  </tbody>\n",
       "</table>\n",
       "<p>1 rows × 70 columns</p>\n",
       "</div>"
      ],
      "text/plain": [
       "                       created_at                   id               id_str  \\\n",
       "0  Sun May 01 10:24:24 +0000 2022  1520710722208083968  1520710722208083968   \n",
       "\n",
       "                                                text  truncated  \\\n",
       "0  russians attempt to buy grain from Zaporizhzhi...      False   \n",
       "\n",
       "                                              source  in_reply_to_status_id  \\\n",
       "0  <a href=\"http://twitter.com/download/android\" ...                    NaN   \n",
       "\n",
       "   in_reply_to_status_id_str  in_reply_to_user_id  in_reply_to_user_id_str  \\\n",
       "0                        NaN                  NaN                      NaN   \n",
       "\n",
       "   ...  user.profile_text_color  user.profile_use_background_image  \\\n",
       "0  ...                        0                              False   \n",
       "\n",
       "   user.has_extended_profile  user.default_profile  \\\n",
       "0                      False                 False   \n",
       "\n",
       "   user.default_profile_image  user.following  user.follow_request_sent  \\\n",
       "0                       False             NaN                       NaN   \n",
       "\n",
       "   user.notifications  user.translator_type  user.withheld_in_countries  \n",
       "0                 NaN                  none                          []  \n",
       "\n",
       "[1 rows x 70 columns]"
      ]
     },
     "execution_count": 109,
     "metadata": {},
     "output_type": "execute_result"
    }
   ],
   "source": [
    "tweets_final_pd"
   ]
  },
  {
   "cell_type": "code",
   "execution_count": 114,
   "metadata": {},
   "outputs": [
    {
     "data": {
      "text/plain": [
       "pandas.core.frame.DataFrame"
      ]
     },
     "execution_count": 114,
     "metadata": {},
     "output_type": "execute_result"
    }
   ],
   "source": [
    "type(tweets_final_pd)"
   ]
  },
  {
   "cell_type": "code",
   "execution_count": 134,
   "metadata": {},
   "outputs": [],
   "source": [
    "noOfTweet = tweets_final_pd.shape[0]\n",
    "#Sentiment Analysis\n",
    "positive = 0\n",
    "negative = 0\n",
    "neutral = 0\n",
    "polarity = 0\n",
    "tweet_list = []\n",
    "neutral_list = []\n",
    "negative_list = []\n",
    "positive_list = []\n",
    "for index, tweet in tweets_final_pd.iterrows():\n",
    "    tweet_list.append(tweet[\"text\"])\n",
    "    analysis = TextBlob(tweet[\"text\"])\n",
    "    score = SentimentIntensityAnalyzer().polarity_scores(tweet[\"text\"])\n",
    "    neg = score['neg']\n",
    "    neu = score['neu']\n",
    "    pos = score['pos']\n",
    "    comp = score['compound']\n",
    "    polarity += analysis.sentiment.polarity\n",
    " \n",
    "    if neg > pos:\n",
    "        negative_list.append(tweet[\"text\"])\n",
    "        negative += 1\n",
    "    elif pos > neg:\n",
    "        positive_list.append(tweet[\"text\"])\n",
    "        positive += 1\n",
    "    elif pos == neg:\n",
    "        neutral_list.append(tweet.text)\n",
    "        neutral += 1\n",
    "\n",
    "positive = percentage(positive, noOfTweet) if positive > 0 else 0\n",
    "negative = percentage(negative, noOfTweet) if negative > 0 else 0\n",
    "neutral = percentage(neutral, noOfTweet) if neutral > 0 else 0\n",
    "polarity = percentage(polarity, noOfTweet) if polarity > 0 else 0\n",
    "positive = format(positive, '.1f')\n",
    "negative = format(negative, '.1f')\n",
    "neutral = format(neutral, '.1f')"
   ]
  },
  {
   "cell_type": "code",
   "execution_count": 135,
   "metadata": {},
   "outputs": [
    {
     "name": "stdout",
     "output_type": "stream",
     "text": [
      "total number:  1\n",
      "positive number:  0\n",
      "negative number:  1\n",
      "neutral number:  0\n"
     ]
    }
   ],
   "source": [
    "#Number of Tweets (Total, Positive, Negative, Neutral)\n",
    "tweet_list = pd.DataFrame(tweet_list)\n",
    "neutral_list = pd.DataFrame(neutral_list)\n",
    "negative_list = pd.DataFrame(negative_list)\n",
    "positive_list = pd.DataFrame(positive_list)\n",
    "print(\"total number: \",len(tweet_list))\n",
    "print(\"positive number: \",len(positive_list))\n",
    "print(\"negative number: \", len(negative_list))\n",
    "print(\"neutral number: \",len(neutral_list))"
   ]
  }
 ],
 "metadata": {
  "interpreter": {
   "hash": "4c336f7bfc73179085ae8f866c8f0055bc59896acda20a450ad7008a76c4aea3"
  },
  "kernelspec": {
   "display_name": "ca2_env",
   "language": "python",
   "name": "python3"
  },
  "language_info": {
   "codemirror_mode": {
    "name": "ipython",
    "version": 3
   },
   "file_extension": ".py",
   "mimetype": "text/x-python",
   "name": "python",
   "nbconvert_exporter": "python",
   "pygments_lexer": "ipython3",
   "version": "3.9.12"
  }
 },
 "nbformat": 4,
 "nbformat_minor": 2
}
