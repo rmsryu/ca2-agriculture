{
 "cells": [
  {
   "cell_type": "markdown",
   "metadata": {},
   "source": [
    "# Prerequisites\n",
    "\n",
    "- Python 3.10.4\n",
    "\n",
    "> Warning: Installation from conda environment may take few minutes\n",
    "\n",
    "Configuring conda environment\n",
    "```cmd\n",
    "conda create -n ca2_env\n",
    "conda activate ca2_env\n",
    "```\n",
    "\n",
    "Installing jupyter notebook on ca2_env environment\n",
    "```cmd\n",
    "conda install jupyter notebook\n",
    "python -m ipykernel install --name ca2_env\n",
    "```\n",
    "\n",
    "Run jupiter \n",
    "```cmd\n",
    "jupyter notebook\n",
    "```"
   ]
  },
  {
   "cell_type": "code",
   "execution_count": 1,
   "metadata": {},
   "outputs": [],
   "source": [
    "from preamble import agriculture"
   ]
  },
  {
   "cell_type": "code",
   "execution_count": 2,
   "metadata": {},
   "outputs": [
    {
     "data": {
      "text/plain": [
       "42"
      ]
     },
     "execution_count": 2,
     "metadata": {},
     "output_type": "execute_result"
    }
   ],
   "source": [
    "agriculture.definitive_answer()"
   ]
  },
  {
   "cell_type": "code",
   "execution_count": null,
   "metadata": {},
   "outputs": [],
   "source": []
  }
 ],
 "metadata": {
  "interpreter": {
   "hash": "ef96ce5004508b51e0b16212bcaa1440d61c2c5ecc4bfe541db85b75d5fbfb02"
  },
  "kernelspec": {
   "display_name": "ca2_env",
   "language": "python",
   "name": "ca2_env"
  },
  "language_info": {
   "codemirror_mode": {
    "name": "ipython",
    "version": 3
   },
   "file_extension": ".py",
   "mimetype": "text/x-python",
   "name": "python",
   "nbconvert_exporter": "python",
   "pygments_lexer": "ipython3",
   "version": "3.9.12"
  }
 },
 "nbformat": 4,
 "nbformat_minor": 2
}
