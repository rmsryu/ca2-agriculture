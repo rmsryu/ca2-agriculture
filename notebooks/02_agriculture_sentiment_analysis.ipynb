{
 "cells": [
  {
   "cell_type": "markdown",
   "metadata": {},
   "source": [
    "# Prerequisites\n",
    "\n",
    "- Python 3.10.4\n",
    "\n",
    "> Warning: Installation from conda environment may take few minutes\n",
    "\n",
    "Configuring conda environment\n",
    "\n",
    "```cmd\n",
    "conda activate ca2_env\n",
    "conda install matplotlib\n",
    "conda install pandas\n",
    "conda install nltk\n",
    "conda install scikit-learn\n",
    "conda install jsonpickle\n",
    "conda install -c conda-forge textblob\n",
    "conda install -c conda-forge tweepy\n",
    "conda install -c conda-forge pycountry\n",
    "conda install -c conda-forge wordcloud\n",
    "conda install -c conda-forge langdetect\n",
    "```\n",
    "\n",
    "References:\n",
    "https://towardsdatascience.com/step-by-step-twitter-sentiment-analysis-in-python-d6f650ade58d\n",
    "\n",
    "\n"
   ]
  },
  {
   "cell_type": "code",
   "execution_count": 3,
   "metadata": {},
   "outputs": [],
   "source": [
    "# Import Libraries\n",
    "from textblob import TextBlob\n",
    "import sys\n",
    "import tweepy\n",
    "import matplotlib.pyplot as plt\n",
    "import pandas as pd\n",
    "import numpy as np\n",
    "import jsonpickle\n",
    "import os\n",
    "import nltk\n",
    "import pycountry\n",
    "import re\n",
    "import string\n",
    "\n",
    "from wordcloud import WordCloud, STOPWORDS\n",
    "from PIL import Image\n",
    "from nltk.sentiment.vader import SentimentIntensityAnalyzer\n",
    "from langdetect import detect\n",
    "from nltk.stem import SnowballStemmer\n",
    "from nltk.sentiment.vader import SentimentIntensityAnalyzer\n",
    "from sklearn.feature_extraction.text import CountVectorizer"
   ]
  },
  {
   "cell_type": "code",
   "execution_count": 2,
   "metadata": {},
   "outputs": [],
   "source": [
    "#nltk.download('brown')\n",
    "#nltk.download('vader_lexicon')"
   ]
  },
  {
   "cell_type": "code",
   "execution_count": 2,
   "metadata": {},
   "outputs": [],
   "source": [
    "# Authentication\n",
    "api_key = \"Y0hENmxMwkILuxxY0yb9NHG0L\"\n",
    "api_secret = \"33OSFPPFNWlN3S9CvL5ok4ClBLjUdviC4zzpLs9aRBwJVzHPMA\"\n",
    "bearerToken = \"AAAAAAAAAAAAAAAAAAAAABoHcAEAAAAA78rV2Phg2vUbwTdcJ2QPGGji65M%3DsTr8DETODttIuwkHy9czi663YUpUPLDOVY2VqUzmBdshiJmLT3\"\n",
    "\n",
    "auth = tweepy.OAuth2BearerHandler(bearerToken)\n",
    "api = tweepy.API(auth)"
   ]
  },
  {
   "cell_type": "code",
   "execution_count": 180,
   "metadata": {},
   "outputs": [],
   "source": [
    "#Download tweets to json file\n",
    "def percentage(part,whole):\n",
    "     return 100 * float(part)/float(whole)\n",
    "\n",
    "search_words = \"(agriculture OR farmers) (price OR cost) (place_country:IE) (lang:en)\"\n",
    "environment = \"development\"\n",
    "fromDate = \"202201010000\"\n",
    "tweets = tweepy.Cursor(\n",
    "            api.search_full_archive,\n",
    "            label=environment,\n",
    "            query=search_words,\n",
    "            fromDate=fromDate).items()"
   ]
  },
  {
   "cell_type": "code",
   "execution_count": null,
   "metadata": {},
   "outputs": [],
   "source": [
    "# Save tweets\n",
    "pd.json_normalize([t._json for t in tweets]).to_csv(\"../data/twitter/agriculture_farmers_2022.csv\")"
   ]
  },
  {
   "cell_type": "code",
   "execution_count": 131,
   "metadata": {},
   "outputs": [],
   "source": [
    "# Read from csv\n",
    "tweets_pd = pd.read_csv(\"../data/twitter/agriculture_farmers_2022.csv\", index_col=0)"
   ]
  },
  {
   "cell_type": "code",
   "execution_count": 132,
   "metadata": {},
   "outputs": [
    {
     "data": {
      "text/plain": [
       "Index(['text', 'extended_tweet.full_text', 'quoted_status.text',\n",
       "       'quoted_status.extended_tweet.full_text'],\n",
       "      dtype='object')"
      ]
     },
     "execution_count": 132,
     "metadata": {},
     "output_type": "execute_result"
    }
   ],
   "source": [
    "tweets_pd.columns[tweets_pd.columns.str.endswith(\"text\")]"
   ]
  },
  {
   "cell_type": "code",
   "execution_count": 133,
   "metadata": {},
   "outputs": [
    {
     "name": "stdout",
     "output_type": "stream",
     "text": [
      "created_at\n",
      "id\n",
      "id_str\n",
      "text\n",
      "display_text_range\n",
      "source\n",
      "truncated\n",
      "in_reply_to_status_id\n",
      "in_reply_to_status_id_str\n",
      "in_reply_to_user_id\n",
      "in_reply_to_user_id_str\n",
      "in_reply_to_screen_name\n",
      "geo\n",
      "coordinates\n",
      "contributors\n",
      "is_quote_status\n",
      "quote_count\n",
      "reply_count\n",
      "retweet_count\n",
      "favorite_count\n",
      "favorited\n",
      "retweeted\n",
      "filter_level\n",
      "lang\n",
      "matching_rules\n",
      "user.id\n",
      "user.id_str\n",
      "user.name\n",
      "user.screen_name\n",
      "user.location\n",
      "user.url\n",
      "user.description\n",
      "user.translator_type\n",
      "user.protected\n",
      "user.verified\n",
      "user.followers_count\n",
      "user.friends_count\n",
      "user.listed_count\n",
      "user.favourites_count\n",
      "user.statuses_count\n",
      "user.created_at\n",
      "user.utc_offset\n",
      "user.time_zone\n",
      "user.geo_enabled\n",
      "user.lang\n",
      "user.contributors_enabled\n",
      "user.is_translator\n",
      "user.profile_background_color\n",
      "user.profile_background_image_url\n",
      "user.profile_background_image_url_https\n",
      "user.profile_background_tile\n",
      "user.profile_link_color\n",
      "user.profile_sidebar_border_color\n",
      "user.profile_sidebar_fill_color\n",
      "user.profile_text_color\n",
      "user.profile_use_background_image\n",
      "user.profile_image_url\n",
      "user.profile_image_url_https\n",
      "user.profile_banner_url\n",
      "user.default_profile\n",
      "user.default_profile_image\n",
      "user.following\n",
      "user.follow_request_sent\n",
      "user.notifications\n",
      "user.withheld_in_countries\n",
      "place.id\n",
      "place.url\n",
      "place.place_type\n",
      "place.name\n",
      "place.full_name\n",
      "place.country_code\n",
      "place.country\n",
      "place.bounding_box.type\n",
      "place.bounding_box.coordinates\n",
      "entities.hashtags\n",
      "entities.urls\n",
      "entities.user_mentions\n",
      "entities.symbols\n",
      "possibly_sensitive\n",
      "extended_tweet.full_text\n",
      "extended_tweet.display_text_range\n",
      "extended_tweet.entities.hashtags\n",
      "extended_tweet.entities.urls\n",
      "extended_tweet.entities.user_mentions\n",
      "extended_tweet.entities.symbols\n",
      "extended_tweet.entities.media\n",
      "extended_tweet.extended_entities.media\n",
      "quoted_status_id\n",
      "quoted_status_id_str\n",
      "quoted_status.created_at\n",
      "quoted_status.id\n",
      "quoted_status.id_str\n",
      "quoted_status.text\n",
      "quoted_status.display_text_range\n",
      "quoted_status.source\n",
      "quoted_status.truncated\n",
      "quoted_status.in_reply_to_status_id\n",
      "quoted_status.in_reply_to_status_id_str\n",
      "quoted_status.in_reply_to_user_id\n",
      "quoted_status.in_reply_to_user_id_str\n",
      "quoted_status.in_reply_to_screen_name\n",
      "quoted_status.user.id\n",
      "quoted_status.user.id_str\n",
      "quoted_status.user.name\n",
      "quoted_status.user.screen_name\n",
      "quoted_status.user.location\n",
      "quoted_status.user.url\n",
      "quoted_status.user.description\n",
      "quoted_status.user.translator_type\n",
      "quoted_status.user.protected\n",
      "quoted_status.user.verified\n",
      "quoted_status.user.followers_count\n",
      "quoted_status.user.friends_count\n",
      "quoted_status.user.listed_count\n",
      "quoted_status.user.favourites_count\n",
      "quoted_status.user.statuses_count\n",
      "quoted_status.user.created_at\n",
      "quoted_status.user.utc_offset\n",
      "quoted_status.user.time_zone\n",
      "quoted_status.user.geo_enabled\n",
      "quoted_status.user.lang\n",
      "quoted_status.user.contributors_enabled\n",
      "quoted_status.user.is_translator\n",
      "quoted_status.user.profile_background_color\n",
      "quoted_status.user.profile_background_image_url\n",
      "quoted_status.user.profile_background_image_url_https\n",
      "quoted_status.user.profile_background_tile\n",
      "quoted_status.user.profile_link_color\n",
      "quoted_status.user.profile_sidebar_border_color\n",
      "quoted_status.user.profile_sidebar_fill_color\n",
      "quoted_status.user.profile_text_color\n",
      "quoted_status.user.profile_use_background_image\n",
      "quoted_status.user.profile_image_url\n",
      "quoted_status.user.profile_image_url_https\n",
      "quoted_status.user.profile_banner_url\n",
      "quoted_status.user.default_profile\n",
      "quoted_status.user.default_profile_image\n",
      "quoted_status.user.following\n",
      "quoted_status.user.follow_request_sent\n",
      "quoted_status.user.notifications\n",
      "quoted_status.user.withheld_in_countries\n",
      "quoted_status.geo\n",
      "quoted_status.coordinates\n",
      "quoted_status.place\n",
      "quoted_status.contributors\n",
      "quoted_status.is_quote_status\n",
      "quoted_status.extended_tweet.full_text\n",
      "quoted_status.extended_tweet.display_text_range\n",
      "quoted_status.extended_tweet.entities.hashtags\n",
      "quoted_status.extended_tweet.entities.urls\n",
      "quoted_status.extended_tweet.entities.user_mentions\n",
      "quoted_status.extended_tweet.entities.symbols\n",
      "quoted_status.extended_tweet.entities.media\n",
      "quoted_status.extended_tweet.extended_entities.media\n",
      "quoted_status.quote_count\n",
      "quoted_status.reply_count\n",
      "quoted_status.retweet_count\n",
      "quoted_status.favorite_count\n",
      "quoted_status.entities.hashtags\n",
      "quoted_status.entities.urls\n",
      "quoted_status.entities.user_mentions\n",
      "quoted_status.entities.symbols\n",
      "quoted_status.favorited\n",
      "quoted_status.retweeted\n",
      "quoted_status.possibly_sensitive\n",
      "quoted_status.filter_level\n",
      "quoted_status.lang\n",
      "quoted_status_permalink.url\n",
      "quoted_status_permalink.expanded\n",
      "quoted_status_permalink.display\n"
     ]
    }
   ],
   "source": [
    "for c in tweets_pd.columns:\n",
    "    print(c)"
   ]
  },
  {
   "cell_type": "code",
   "execution_count": 134,
   "metadata": {},
   "outputs": [
    {
     "name": "stdout",
     "output_type": "stream",
     "text": [
      "<class 'pandas.core.frame.DataFrame'>\n",
      "Int64Index: 5 entries, 0 to 4\n",
      "Columns: 170 entries, created_at to quoted_status_permalink.display\n",
      "dtypes: bool(13), float64(44), int64(14), object(99)\n",
      "memory usage: 6.2+ KB\n"
     ]
    }
   ],
   "source": [
    "tweets_pd.info()"
   ]
  },
  {
   "cell_type": "code",
   "execution_count": 135,
   "metadata": {},
   "outputs": [],
   "source": [
    "# Replace truncated with extended text\n",
    "tweets_pd[\"text\"] = tweets_pd.apply(lambda r: r[\"extended_tweet.full_text\"] if r[\"truncated\"] else r[\"text\"], axis=1)\n",
    "tweets_pd[\"quoted_status.text\"] = tweets_pd.apply(lambda r: r[\"quoted_status.extended_tweet.full_text\"] if r[\"quoted_status.truncated\"] else r[\"quoted_status.text\"], axis=1)\n"
   ]
  },
  {
   "cell_type": "markdown",
   "metadata": {},
   "source": [
    "> split dataset by columns. Get quoted status info"
   ]
  },
  {
   "cell_type": "code",
   "execution_count": 144,
   "metadata": {},
   "outputs": [
    {
     "name": "stderr",
     "output_type": "stream",
     "text": [
      "C:\\Users\\rmsry\\AppData\\Local\\Temp\\ipykernel_15264\\903030612.py:3: SettingWithCopyWarning: \n",
      "A value is trying to be set on a copy of a slice from a DataFrame\n",
      "\n",
      "See the caveats in the documentation: https://pandas.pydata.org/pandas-docs/stable/user_guide/indexing.html#returning-a-view-versus-a-copy\n",
      "  tweets_status_pd.rename({\"place.full_name\":\"place\"}, axis=1, inplace=True)\n"
     ]
    }
   ],
   "source": [
    "# Status tweets\n",
    "tweets_status_pd = tweets_pd[[c for c in tweets_pd.columns if not(c.startswith(\"quoted\"))]]\n",
    "tweets_status_pd.rename({\"place.full_name\":\"place\"}, axis=1, inplace=True)\n"
   ]
  },
  {
   "cell_type": "code",
   "execution_count": 155,
   "metadata": {},
   "outputs": [],
   "source": [
    "# Quote status tweets\n",
    "tweets_quoted_status_pd = tweets_pd[tweets_pd[\"is_quote_status\"]][tweets_pd.columns[tweets_pd.columns.str.startswith(\"quoted\")]]\n",
    "# rename columns\n",
    "tweets_quoted_status_pd.rename(mapper=lambda c: c.replace(\"quoted_status.\",\"\"), axis='columns', inplace=True)\n",
    "# add dummy \"place.bounding_box.type\" and \"place.bounding_box.coordinates\"\n",
    "tweets_quoted_status_pd[\"place.bounding_box.type\"] = None\n",
    "tweets_quoted_status_pd[\"place.bounding_box.coordinates\"] = None"
   ]
  },
  {
   "cell_type": "code",
   "execution_count": 174,
   "metadata": {},
   "outputs": [],
   "source": [
    "import numpy as np\n",
    "columns = [\"id\",\"geo\",\"coordinates\",\"reply_count\",\"favorite_count\", \"place\", \"text\" ,\"user.location\", \"place.bounding_box.type\", \"place.bounding_box.coordinates\"]\n",
    "arr1 = tweets_quoted_status_pd[columns].to_numpy()\n",
    "arr2 = tweets_status_pd[columns].to_numpy()\n",
    "tweets_final_pd = pd.DataFrame(np.concatenate((arr1,arr2), axis=0), columns = columns)\n"
   ]
  },
  {
   "cell_type": "code",
   "execution_count": 176,
   "metadata": {},
   "outputs": [],
   "source": [
    "tweets_final_pd.to_csv(\"final.csv\")"
   ]
  },
  {
   "cell_type": "code",
   "execution_count": 50,
   "metadata": {},
   "outputs": [
    {
     "ename": "NameError",
     "evalue": "name 'tweets' is not defined",
     "output_type": "error",
     "traceback": [
      "\u001b[1;31m---------------------------------------------------------------------------\u001b[0m",
      "\u001b[1;31mNameError\u001b[0m                                 Traceback (most recent call last)",
      "\u001b[1;32mc:\\Users\\rmsry\\Data_Analytics\\CA2\\ca2-agriculture\\notebooks\\02_agriculture_sentiment_analysis.ipynb Cell 15'\u001b[0m in \u001b[0;36m<cell line: 10>\u001b[1;34m()\u001b[0m\n\u001b[0;32m      <a href='vscode-notebook-cell:/c%3A/Users/rmsry/Data_Analytics/CA2/ca2-agriculture/notebooks/02_agriculture_sentiment_analysis.ipynb#ch0000010?line=7'>8</a>\u001b[0m negative_list \u001b[39m=\u001b[39m []\n\u001b[0;32m      <a href='vscode-notebook-cell:/c%3A/Users/rmsry/Data_Analytics/CA2/ca2-agriculture/notebooks/02_agriculture_sentiment_analysis.ipynb#ch0000010?line=8'>9</a>\u001b[0m positive_list \u001b[39m=\u001b[39m []\n\u001b[1;32m---> <a href='vscode-notebook-cell:/c%3A/Users/rmsry/Data_Analytics/CA2/ca2-agriculture/notebooks/02_agriculture_sentiment_analysis.ipynb#ch0000010?line=9'>10</a>\u001b[0m \u001b[39mfor\u001b[39;00m tweet \u001b[39min\u001b[39;00m tweets:\n\u001b[0;32m     <a href='vscode-notebook-cell:/c%3A/Users/rmsry/Data_Analytics/CA2/ca2-agriculture/notebooks/02_agriculture_sentiment_analysis.ipynb#ch0000010?line=10'>11</a>\u001b[0m     tweet_list\u001b[39m.\u001b[39mappend(tweet\u001b[39m.\u001b[39mtext)\n\u001b[0;32m     <a href='vscode-notebook-cell:/c%3A/Users/rmsry/Data_Analytics/CA2/ca2-agriculture/notebooks/02_agriculture_sentiment_analysis.ipynb#ch0000010?line=11'>12</a>\u001b[0m     analysis \u001b[39m=\u001b[39m TextBlob(tweet\u001b[39m.\u001b[39mtext)\n",
      "\u001b[1;31mNameError\u001b[0m: name 'tweets' is not defined"
     ]
    }
   ],
   "source": [
    "#Sentiment Analysis\n",
    "positive = 0\n",
    "negative = 0\n",
    "neutral = 0\n",
    "polarity = 0\n",
    "tweet_list = []\n",
    "neutral_list = []\n",
    "negative_list = []\n",
    "positive_list = []\n",
    "for tweet in tweets:\n",
    "    tweet_list.append(tweet.text)\n",
    "    analysis = TextBlob(tweet.text)\n",
    "    score = SentimentIntensityAnalyzer().polarity_scores(tweet.text)\n",
    "    neg = score['neg']\n",
    "    neu = score['neu']\n",
    "    pos = score['pos']\n",
    "    comp = score['compound']\n",
    "    polarity += analysis.sentiment.polarity\n",
    " \n",
    "    if neg > pos:\n",
    "        negative_list.append(tweet.text)\n",
    "        negative += 1\n",
    "    elif pos > neg:\n",
    "        positive_list.append(tweet.text)\n",
    "        positive += 1\n",
    "    elif pos == neg:\n",
    "        neutral_list.append(tweet.text)\n",
    "        neutral += 1\n",
    "    print(tweet)\n",
    "\n",
    "positive = percentage(positive, noOfTweet)\n",
    "negative = percentage(negative, noOfTweet)\n",
    "neutral = percentage(neutral, noOfTweet)\n",
    "polarity = percentage(polarity, noOfTweet)\n",
    "positive = format(positive, '.1f')\n",
    "negative = format(negative, '.1f')\n",
    "neutral = format(neutral, '.1f')"
   ]
  },
  {
   "cell_type": "code",
   "execution_count": 40,
   "metadata": {},
   "outputs": [
    {
     "name": "stdout",
     "output_type": "stream",
     "text": [
      "total number:  10\n",
      "positive number:  3\n",
      "negative number:  2\n",
      "neutral number:  5\n"
     ]
    }
   ],
   "source": [
    "#Number of Tweets (Total, Positive, Negative, Neutral)\n",
    "tweet_list = pd.DataFrame(tweet_list)\n",
    "neutral_list = pd.DataFrame(neutral_list)\n",
    "negative_list = pd.DataFrame(negative_list)\n",
    "positive_list = pd.DataFrame(positive_list)\n",
    "print(\"total number: \",len(tweet_list))\n",
    "print(\"positive number: \",len(positive_list))\n",
    "print(\"negative number: \", len(negative_list))\n",
    "print(\"neutral number: \",len(neutral_list))"
   ]
  }
 ],
 "metadata": {
  "interpreter": {
   "hash": "4c336f7bfc73179085ae8f866c8f0055bc59896acda20a450ad7008a76c4aea3"
  },
  "kernelspec": {
   "display_name": "ca2_env",
   "language": "python",
   "name": "python3"
  },
  "language_info": {
   "codemirror_mode": {
    "name": "ipython",
    "version": 3
   },
   "file_extension": ".py",
   "mimetype": "text/x-python",
   "name": "python",
   "nbconvert_exporter": "python",
   "pygments_lexer": "ipython3",
   "version": "3.9.12"
  }
 },
 "nbformat": 4,
 "nbformat_minor": 2
}
