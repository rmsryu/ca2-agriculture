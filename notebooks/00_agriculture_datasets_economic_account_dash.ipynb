{
 "cells": [
  {
   "cell_type": "markdown",
   "metadata": {},
   "source": [
    "# Prerequisites\n",
    "\n",
    "- Python 3.10.4\n",
    "\n",
    "> Warning: Installation from conda environment may take few minutes\n",
    "\n",
    "Configuring conda environment\n",
    "```cmd\n",
    "conda create -n ca2_env\n",
    "conda activate ca2_env\n",
    "conda install -c plotly plotly_express\n",
    "conda install -c conda-forge python-kaleido\n",
    "conda install -c anaconda seaborn\n",
    "conda install -c conda-forge geojson\n",
    "```\n",
    "\n",
    "Installing jupyter notebook on ca2_env environment\n",
    "```cmd\n",
    "conda install jupyter notebook\n",
    "python -m ipykernel install --name ca2_env\n",
    "```\n",
    "\n",
    "Run jupiter \n",
    "```cmd\n",
    "jupyter notebook\n",
    "```"
   ]
  },
  {
   "cell_type": "code",
   "execution_count": 1,
   "metadata": {},
   "outputs": [],
   "source": [
    "from preamble import agriculture\n",
    "import pandas as pd\n",
    "import plotly.express as px\n",
    "import seaborn as sns"
   ]
  },
  {
   "cell_type": "markdown",
   "metadata": {},
   "source": [
    "# Economic Accounts in Agriculture DataSets\n",
    "- Labour productivity\n",
    "  - aact_eaa06: Economic accounts for agriculture - agricultural income (indicators A, B, C)\n",
    "  - aact_eaa05: Economic accounts for agriculture - indices: volume, price, values\n",
    "  - aact_ali02: Agricultural labour input statistics: indices\n",
    "  "
   ]
  },
  {
   "cell_type": "markdown",
   "metadata": {},
   "source": [
    "## Labour productivity\n",
    "### aact_eaa06: Economic accounts for agriculture - agricultural income (indicators A, B, C)"
   ]
  },
  {
   "cell_type": "code",
   "execution_count": 2,
   "metadata": {},
   "outputs": [],
   "source": [
    "aact_eaa06_df = pd.read_csv(\"../data/eurostat/economic_accounts/aact_eaa06_linear.csv\")"
   ]
  },
  {
   "cell_type": "code",
   "execution_count": 3,
   "metadata": {},
   "outputs": [
    {
     "data": {
      "text/html": [
       "<div>\n",
       "<style scoped>\n",
       "    .dataframe tbody tr th:only-of-type {\n",
       "        vertical-align: middle;\n",
       "    }\n",
       "\n",
       "    .dataframe tbody tr th {\n",
       "        vertical-align: top;\n",
       "    }\n",
       "\n",
       "    .dataframe thead th {\n",
       "        text-align: right;\n",
       "    }\n",
       "</style>\n",
       "<table border=\"1\" class=\"dataframe\">\n",
       "  <thead>\n",
       "    <tr style=\"text-align: right;\">\n",
       "      <th></th>\n",
       "      <th>DATAFLOW</th>\n",
       "      <th>LAST UPDATE</th>\n",
       "      <th>freq</th>\n",
       "      <th>itm_newa</th>\n",
       "      <th>unit</th>\n",
       "      <th>geo</th>\n",
       "      <th>TIME_PERIOD</th>\n",
       "      <th>OBS_VALUE</th>\n",
       "      <th>OBS_FLAG</th>\n",
       "    </tr>\n",
       "  </thead>\n",
       "  <tbody>\n",
       "    <tr>\n",
       "      <th>0</th>\n",
       "      <td>ESTAT:AACT_EAA06(1.0)</td>\n",
       "      <td>14/03/22 11:00:00</td>\n",
       "      <td>A</td>\n",
       "      <td>IND_A_EURO</td>\n",
       "      <td>I05</td>\n",
       "      <td>AT</td>\n",
       "      <td>1990</td>\n",
       "      <td>81.95</td>\n",
       "      <td>NaN</td>\n",
       "    </tr>\n",
       "    <tr>\n",
       "      <th>1</th>\n",
       "      <td>ESTAT:AACT_EAA06(1.0)</td>\n",
       "      <td>14/03/22 11:00:00</td>\n",
       "      <td>A</td>\n",
       "      <td>IND_A_EURO</td>\n",
       "      <td>I05</td>\n",
       "      <td>AT</td>\n",
       "      <td>1991</td>\n",
       "      <td>81.44</td>\n",
       "      <td>NaN</td>\n",
       "    </tr>\n",
       "    <tr>\n",
       "      <th>2</th>\n",
       "      <td>ESTAT:AACT_EAA06(1.0)</td>\n",
       "      <td>14/03/22 11:00:00</td>\n",
       "      <td>A</td>\n",
       "      <td>IND_A_EURO</td>\n",
       "      <td>I05</td>\n",
       "      <td>AT</td>\n",
       "      <td>1992</td>\n",
       "      <td>76.18</td>\n",
       "      <td>NaN</td>\n",
       "    </tr>\n",
       "    <tr>\n",
       "      <th>3</th>\n",
       "      <td>ESTAT:AACT_EAA06(1.0)</td>\n",
       "      <td>14/03/22 11:00:00</td>\n",
       "      <td>A</td>\n",
       "      <td>IND_A_EURO</td>\n",
       "      <td>I05</td>\n",
       "      <td>AT</td>\n",
       "      <td>1993</td>\n",
       "      <td>72.65</td>\n",
       "      <td>NaN</td>\n",
       "    </tr>\n",
       "    <tr>\n",
       "      <th>4</th>\n",
       "      <td>ESTAT:AACT_EAA06(1.0)</td>\n",
       "      <td>14/03/22 11:00:00</td>\n",
       "      <td>A</td>\n",
       "      <td>IND_A_EURO</td>\n",
       "      <td>I05</td>\n",
       "      <td>AT</td>\n",
       "      <td>1994</td>\n",
       "      <td>83.92</td>\n",
       "      <td>NaN</td>\n",
       "    </tr>\n",
       "  </tbody>\n",
       "</table>\n",
       "</div>"
      ],
      "text/plain": [
       "                DATAFLOW        LAST UPDATE freq    itm_newa unit geo  \\\n",
       "0  ESTAT:AACT_EAA06(1.0)  14/03/22 11:00:00    A  IND_A_EURO  I05  AT   \n",
       "1  ESTAT:AACT_EAA06(1.0)  14/03/22 11:00:00    A  IND_A_EURO  I05  AT   \n",
       "2  ESTAT:AACT_EAA06(1.0)  14/03/22 11:00:00    A  IND_A_EURO  I05  AT   \n",
       "3  ESTAT:AACT_EAA06(1.0)  14/03/22 11:00:00    A  IND_A_EURO  I05  AT   \n",
       "4  ESTAT:AACT_EAA06(1.0)  14/03/22 11:00:00    A  IND_A_EURO  I05  AT   \n",
       "\n",
       "   TIME_PERIOD  OBS_VALUE OBS_FLAG  \n",
       "0         1990      81.95      NaN  \n",
       "1         1991      81.44      NaN  \n",
       "2         1992      76.18      NaN  \n",
       "3         1993      72.65      NaN  \n",
       "4         1994      83.92      NaN  "
      ]
     },
     "execution_count": 3,
     "metadata": {},
     "output_type": "execute_result"
    }
   ],
   "source": [
    "aact_eaa06_df.head(5)"
   ]
  },
  {
   "cell_type": "code",
   "execution_count": 4,
   "metadata": {},
   "outputs": [
    {
     "name": "stdout",
     "output_type": "stream",
     "text": [
      "<class 'pandas.core.frame.DataFrame'>\n",
      "RangeIndex: 8458 entries, 0 to 8457\n",
      "Data columns (total 9 columns):\n",
      " #   Column       Non-Null Count  Dtype  \n",
      "---  ------       --------------  -----  \n",
      " 0   DATAFLOW     8458 non-null   object \n",
      " 1   LAST UPDATE  8458 non-null   object \n",
      " 2   freq         8458 non-null   object \n",
      " 3   itm_newa     8458 non-null   object \n",
      " 4   unit         8458 non-null   object \n",
      " 5   geo          8458 non-null   object \n",
      " 6   TIME_PERIOD  8458 non-null   int64  \n",
      " 7   OBS_VALUE    8458 non-null   float64\n",
      " 8   OBS_FLAG     216 non-null    object \n",
      "dtypes: float64(1), int64(1), object(7)\n",
      "memory usage: 594.8+ KB\n"
     ]
    }
   ],
   "source": [
    "aact_eaa06_df.info()"
   ]
  },
  {
   "cell_type": "code",
   "execution_count": 5,
   "metadata": {},
   "outputs": [
    {
     "data": {
      "text/html": [
       "<div>\n",
       "<style scoped>\n",
       "    .dataframe tbody tr th:only-of-type {\n",
       "        vertical-align: middle;\n",
       "    }\n",
       "\n",
       "    .dataframe tbody tr th {\n",
       "        vertical-align: top;\n",
       "    }\n",
       "\n",
       "    .dataframe thead th {\n",
       "        text-align: right;\n",
       "    }\n",
       "</style>\n",
       "<table border=\"1\" class=\"dataframe\">\n",
       "  <thead>\n",
       "    <tr style=\"text-align: right;\">\n",
       "      <th></th>\n",
       "      <th>TIME_PERIOD</th>\n",
       "      <th>OBS_VALUE</th>\n",
       "    </tr>\n",
       "  </thead>\n",
       "  <tbody>\n",
       "    <tr>\n",
       "      <th>count</th>\n",
       "      <td>8458.000000</td>\n",
       "      <td>8458.000000</td>\n",
       "    </tr>\n",
       "    <tr>\n",
       "      <th>mean</th>\n",
       "      <td>2005.727477</td>\n",
       "      <td>187.909479</td>\n",
       "    </tr>\n",
       "    <tr>\n",
       "      <th>std</th>\n",
       "      <td>9.873103</td>\n",
       "      <td>3566.378914</td>\n",
       "    </tr>\n",
       "    <tr>\n",
       "      <th>min</th>\n",
       "      <td>1974.000000</td>\n",
       "      <td>0.000000</td>\n",
       "    </tr>\n",
       "    <tr>\n",
       "      <th>25%</th>\n",
       "      <td>2001.000000</td>\n",
       "      <td>91.142500</td>\n",
       "    </tr>\n",
       "    <tr>\n",
       "      <th>50%</th>\n",
       "      <td>2007.000000</td>\n",
       "      <td>102.370000</td>\n",
       "    </tr>\n",
       "    <tr>\n",
       "      <th>75%</th>\n",
       "      <td>2013.000000</td>\n",
       "      <td>118.197500</td>\n",
       "    </tr>\n",
       "    <tr>\n",
       "      <th>max</th>\n",
       "      <td>2021.000000</td>\n",
       "      <td>233548.900000</td>\n",
       "    </tr>\n",
       "  </tbody>\n",
       "</table>\n",
       "</div>"
      ],
      "text/plain": [
       "       TIME_PERIOD      OBS_VALUE\n",
       "count  8458.000000    8458.000000\n",
       "mean   2005.727477     187.909479\n",
       "std       9.873103    3566.378914\n",
       "min    1974.000000       0.000000\n",
       "25%    2001.000000      91.142500\n",
       "50%    2007.000000     102.370000\n",
       "75%    2013.000000     118.197500\n",
       "max    2021.000000  233548.900000"
      ]
     },
     "execution_count": 5,
     "metadata": {},
     "output_type": "execute_result"
    }
   ],
   "source": [
    "aact_eaa06_df.describe()"
   ]
  },
  {
   "cell_type": "code",
   "execution_count": 6,
   "metadata": {},
   "outputs": [
    {
     "data": {
      "text/plain": [
       "DATAFLOW          0\n",
       "LAST UPDATE       0\n",
       "freq              0\n",
       "itm_newa          0\n",
       "unit              0\n",
       "geo               0\n",
       "TIME_PERIOD       0\n",
       "OBS_VALUE         0\n",
       "OBS_FLAG       8242\n",
       "dtype: int64"
      ]
     },
     "execution_count": 6,
     "metadata": {},
     "output_type": "execute_result"
    }
   ],
   "source": [
    "aact_eaa06_df.isnull().sum()"
   ]
  },
  {
   "cell_type": "code",
   "execution_count": 7,
   "metadata": {},
   "outputs": [
    {
     "data": {
      "text/plain": [
       "array(['IND_A_EURO', 'IND_B_EURO', 'IND_C_EURO'], dtype=object)"
      ]
     },
     "execution_count": 7,
     "metadata": {},
     "output_type": "execute_result"
    }
   ],
   "source": [
    "aact_eaa06_df.itm_newa.unique()\n",
    "# IND_A_EURO\tIndicator A: Index of the real income of factors in agriculture per annual work unit\n",
    "# IND_B_EURO\tIndicator B: Index of real net agricultural entrepreneurial income, per unpaid annual work unit\n",
    "# IND_C_EURO\tIndicator C: Net entrepreneurial income of agriculture\n"
   ]
  },
  {
   "cell_type": "markdown",
   "metadata": {},
   "source": [
    "  \n",
    "  ### aact_eaa05: Economic accounts for agriculture - indices: volume, price, values"
   ]
  },
  {
   "cell_type": "code",
   "execution_count": 8,
   "metadata": {},
   "outputs": [],
   "source": [
    "aact_eaa05_df = pd.read_csv(\"../data/eurostat/economic_accounts/aact_eaa05_linear.csv\")"
   ]
  },
  {
   "cell_type": "code",
   "execution_count": 9,
   "metadata": {},
   "outputs": [
    {
     "data": {
      "text/plain": [
       "(3646543, 11)"
      ]
     },
     "execution_count": 9,
     "metadata": {},
     "output_type": "execute_result"
    }
   ],
   "source": [
    "aact_eaa05_df.shape"
   ]
  },
  {
   "cell_type": "code",
   "execution_count": 10,
   "metadata": {},
   "outputs": [
    {
     "data": {
      "text/html": [
       "<div>\n",
       "<style scoped>\n",
       "    .dataframe tbody tr th:only-of-type {\n",
       "        vertical-align: middle;\n",
       "    }\n",
       "\n",
       "    .dataframe tbody tr th {\n",
       "        vertical-align: top;\n",
       "    }\n",
       "\n",
       "    .dataframe thead th {\n",
       "        text-align: right;\n",
       "    }\n",
       "</style>\n",
       "<table border=\"1\" class=\"dataframe\">\n",
       "  <thead>\n",
       "    <tr style=\"text-align: right;\">\n",
       "      <th></th>\n",
       "      <th>DATAFLOW</th>\n",
       "      <th>LAST UPDATE</th>\n",
       "      <th>freq</th>\n",
       "      <th>itm_newa</th>\n",
       "      <th>indic_ag</th>\n",
       "      <th>p_adj</th>\n",
       "      <th>unit</th>\n",
       "      <th>geo</th>\n",
       "      <th>TIME_PERIOD</th>\n",
       "      <th>OBS_VALUE</th>\n",
       "      <th>OBS_FLAG</th>\n",
       "    </tr>\n",
       "  </thead>\n",
       "  <tbody>\n",
       "    <tr>\n",
       "      <th>0</th>\n",
       "      <td>ESTAT:AACT_EAA05(1.0)</td>\n",
       "      <td>14/03/22 11:00:00</td>\n",
       "      <td>A</td>\n",
       "      <td>1000</td>\n",
       "      <td>PROD_BP</td>\n",
       "      <td>NP</td>\n",
       "      <td>I05</td>\n",
       "      <td>AT</td>\n",
       "      <td>1990</td>\n",
       "      <td>257.75</td>\n",
       "      <td>NaN</td>\n",
       "    </tr>\n",
       "    <tr>\n",
       "      <th>1</th>\n",
       "      <td>ESTAT:AACT_EAA05(1.0)</td>\n",
       "      <td>14/03/22 11:00:00</td>\n",
       "      <td>A</td>\n",
       "      <td>1000</td>\n",
       "      <td>PROD_BP</td>\n",
       "      <td>NP</td>\n",
       "      <td>I05</td>\n",
       "      <td>AT</td>\n",
       "      <td>1991</td>\n",
       "      <td>249.91</td>\n",
       "      <td>NaN</td>\n",
       "    </tr>\n",
       "    <tr>\n",
       "      <th>2</th>\n",
       "      <td>ESTAT:AACT_EAA05(1.0)</td>\n",
       "      <td>14/03/22 11:00:00</td>\n",
       "      <td>A</td>\n",
       "      <td>1000</td>\n",
       "      <td>PROD_BP</td>\n",
       "      <td>NP</td>\n",
       "      <td>I05</td>\n",
       "      <td>AT</td>\n",
       "      <td>1992</td>\n",
       "      <td>242.05</td>\n",
       "      <td>NaN</td>\n",
       "    </tr>\n",
       "    <tr>\n",
       "      <th>3</th>\n",
       "      <td>ESTAT:AACT_EAA05(1.0)</td>\n",
       "      <td>14/03/22 11:00:00</td>\n",
       "      <td>A</td>\n",
       "      <td>1000</td>\n",
       "      <td>PROD_BP</td>\n",
       "      <td>NP</td>\n",
       "      <td>I05</td>\n",
       "      <td>AT</td>\n",
       "      <td>1993</td>\n",
       "      <td>243.46</td>\n",
       "      <td>NaN</td>\n",
       "    </tr>\n",
       "    <tr>\n",
       "      <th>4</th>\n",
       "      <td>ESTAT:AACT_EAA05(1.0)</td>\n",
       "      <td>14/03/22 11:00:00</td>\n",
       "      <td>A</td>\n",
       "      <td>1000</td>\n",
       "      <td>PROD_BP</td>\n",
       "      <td>NP</td>\n",
       "      <td>I05</td>\n",
       "      <td>AT</td>\n",
       "      <td>1994</td>\n",
       "      <td>242.91</td>\n",
       "      <td>NaN</td>\n",
       "    </tr>\n",
       "  </tbody>\n",
       "</table>\n",
       "</div>"
      ],
      "text/plain": [
       "                DATAFLOW        LAST UPDATE freq  itm_newa indic_ag p_adj  \\\n",
       "0  ESTAT:AACT_EAA05(1.0)  14/03/22 11:00:00    A      1000  PROD_BP    NP   \n",
       "1  ESTAT:AACT_EAA05(1.0)  14/03/22 11:00:00    A      1000  PROD_BP    NP   \n",
       "2  ESTAT:AACT_EAA05(1.0)  14/03/22 11:00:00    A      1000  PROD_BP    NP   \n",
       "3  ESTAT:AACT_EAA05(1.0)  14/03/22 11:00:00    A      1000  PROD_BP    NP   \n",
       "4  ESTAT:AACT_EAA05(1.0)  14/03/22 11:00:00    A      1000  PROD_BP    NP   \n",
       "\n",
       "  unit geo  TIME_PERIOD  OBS_VALUE OBS_FLAG  \n",
       "0  I05  AT         1990     257.75      NaN  \n",
       "1  I05  AT         1991     249.91      NaN  \n",
       "2  I05  AT         1992     242.05      NaN  \n",
       "3  I05  AT         1993     243.46      NaN  \n",
       "4  I05  AT         1994     242.91      NaN  "
      ]
     },
     "execution_count": 10,
     "metadata": {},
     "output_type": "execute_result"
    }
   ],
   "source": [
    "aact_eaa05_df.head(5)"
   ]
  },
  {
   "cell_type": "code",
   "execution_count": 11,
   "metadata": {},
   "outputs": [
    {
     "data": {
      "text/plain": [
       "array(['PROD_BP', 'PROD_PP', 'SUBS', 'TAX'], dtype=object)"
      ]
     },
     "execution_count": 11,
     "metadata": {},
     "output_type": "execute_result"
    }
   ],
   "source": [
    "aact_eaa05_df.indic_ag.unique()\n",
    "# PROD_BP\tProduction value at basic price\n",
    "# PROD_PP\tProduction value at producer price\n",
    "# SUBS\tSubsidies on products\n",
    "# TAX\tTaxes on products"
   ]
  },
  {
   "cell_type": "code",
   "execution_count": 12,
   "metadata": {},
   "outputs": [
    {
     "data": {
      "text/plain": [
       "DATAFLOW             0\n",
       "LAST UPDATE          0\n",
       "freq                 0\n",
       "itm_newa             0\n",
       "indic_ag             0\n",
       "p_adj                0\n",
       "unit                 0\n",
       "geo                  0\n",
       "TIME_PERIOD          0\n",
       "OBS_VALUE        11110\n",
       "OBS_FLAG       3570773\n",
       "dtype: int64"
      ]
     },
     "execution_count": 12,
     "metadata": {},
     "output_type": "execute_result"
    }
   ],
   "source": [
    "aact_eaa05_df.isnull().sum()"
   ]
  },
  {
   "cell_type": "markdown",
   "metadata": {},
   "source": [
    "  \n",
    "  ### aact_ali02: Agricultural labour input statistics: indices"
   ]
  },
  {
   "cell_type": "code",
   "execution_count": 13,
   "metadata": {},
   "outputs": [],
   "source": [
    "aact_ali02_df = pd.read_csv(\"../data/eurostat/agricultural_income/aact_ali02_linear.csv\")"
   ]
  },
  {
   "cell_type": "code",
   "execution_count": 14,
   "metadata": {},
   "outputs": [
    {
     "data": {
      "text/html": [
       "<div>\n",
       "<style scoped>\n",
       "    .dataframe tbody tr th:only-of-type {\n",
       "        vertical-align: middle;\n",
       "    }\n",
       "\n",
       "    .dataframe tbody tr th {\n",
       "        vertical-align: top;\n",
       "    }\n",
       "\n",
       "    .dataframe thead th {\n",
       "        text-align: right;\n",
       "    }\n",
       "</style>\n",
       "<table border=\"1\" class=\"dataframe\">\n",
       "  <thead>\n",
       "    <tr style=\"text-align: right;\">\n",
       "      <th></th>\n",
       "      <th>DATAFLOW</th>\n",
       "      <th>LAST UPDATE</th>\n",
       "      <th>freq</th>\n",
       "      <th>unit</th>\n",
       "      <th>itm_newa</th>\n",
       "      <th>geo</th>\n",
       "      <th>TIME_PERIOD</th>\n",
       "      <th>OBS_VALUE</th>\n",
       "      <th>OBS_FLAG</th>\n",
       "    </tr>\n",
       "  </thead>\n",
       "  <tbody>\n",
       "    <tr>\n",
       "      <th>0</th>\n",
       "      <td>ESTAT:AACT_ALI02(1.0)</td>\n",
       "      <td>14/03/22 11:00:00</td>\n",
       "      <td>A</td>\n",
       "      <td>I05</td>\n",
       "      <td>40000</td>\n",
       "      <td>AT</td>\n",
       "      <td>1990</td>\n",
       "      <td>155.76</td>\n",
       "      <td>NaN</td>\n",
       "    </tr>\n",
       "    <tr>\n",
       "      <th>1</th>\n",
       "      <td>ESTAT:AACT_ALI02(1.0)</td>\n",
       "      <td>14/03/22 11:00:00</td>\n",
       "      <td>A</td>\n",
       "      <td>I05</td>\n",
       "      <td>40000</td>\n",
       "      <td>AT</td>\n",
       "      <td>1991</td>\n",
       "      <td>156.25</td>\n",
       "      <td>NaN</td>\n",
       "    </tr>\n",
       "    <tr>\n",
       "      <th>2</th>\n",
       "      <td>ESTAT:AACT_ALI02(1.0)</td>\n",
       "      <td>14/03/22 11:00:00</td>\n",
       "      <td>A</td>\n",
       "      <td>I05</td>\n",
       "      <td>40000</td>\n",
       "      <td>AT</td>\n",
       "      <td>1992</td>\n",
       "      <td>148.91</td>\n",
       "      <td>NaN</td>\n",
       "    </tr>\n",
       "    <tr>\n",
       "      <th>3</th>\n",
       "      <td>ESTAT:AACT_ALI02(1.0)</td>\n",
       "      <td>14/03/22 11:00:00</td>\n",
       "      <td>A</td>\n",
       "      <td>I05</td>\n",
       "      <td>40000</td>\n",
       "      <td>AT</td>\n",
       "      <td>1993</td>\n",
       "      <td>142.44</td>\n",
       "      <td>NaN</td>\n",
       "    </tr>\n",
       "    <tr>\n",
       "      <th>4</th>\n",
       "      <td>ESTAT:AACT_ALI02(1.0)</td>\n",
       "      <td>14/03/22 11:00:00</td>\n",
       "      <td>A</td>\n",
       "      <td>I05</td>\n",
       "      <td>40000</td>\n",
       "      <td>AT</td>\n",
       "      <td>1994</td>\n",
       "      <td>136.18</td>\n",
       "      <td>NaN</td>\n",
       "    </tr>\n",
       "  </tbody>\n",
       "</table>\n",
       "</div>"
      ],
      "text/plain": [
       "                DATAFLOW        LAST UPDATE freq unit  itm_newa geo  \\\n",
       "0  ESTAT:AACT_ALI02(1.0)  14/03/22 11:00:00    A  I05     40000  AT   \n",
       "1  ESTAT:AACT_ALI02(1.0)  14/03/22 11:00:00    A  I05     40000  AT   \n",
       "2  ESTAT:AACT_ALI02(1.0)  14/03/22 11:00:00    A  I05     40000  AT   \n",
       "3  ESTAT:AACT_ALI02(1.0)  14/03/22 11:00:00    A  I05     40000  AT   \n",
       "4  ESTAT:AACT_ALI02(1.0)  14/03/22 11:00:00    A  I05     40000  AT   \n",
       "\n",
       "   TIME_PERIOD  OBS_VALUE OBS_FLAG  \n",
       "0         1990     155.76      NaN  \n",
       "1         1991     156.25      NaN  \n",
       "2         1992     148.91      NaN  \n",
       "3         1993     142.44      NaN  \n",
       "4         1994     136.18      NaN  "
      ]
     },
     "execution_count": 14,
     "metadata": {},
     "output_type": "execute_result"
    }
   ],
   "source": [
    "aact_ali02_df.head()"
   ]
  },
  {
   "cell_type": "code",
   "execution_count": 15,
   "metadata": {},
   "outputs": [
    {
     "data": {
      "text/plain": [
       "array([40000, 41000, 42000], dtype=int64)"
      ]
     },
     "execution_count": 15,
     "metadata": {},
     "output_type": "execute_result"
    }
   ],
   "source": [
    "aact_ali02_df.itm_newa.unique()\n",
    "# 40000\tTotal labour force input\n",
    "# 41000\tNon-salaried\n",
    "# 42000\tSalaried"
   ]
  },
  {
   "cell_type": "markdown",
   "metadata": {},
   "source": [
    "## Ireland"
   ]
  },
  {
   "cell_type": "code",
   "execution_count": 16,
   "metadata": {},
   "outputs": [],
   "source": [
    "# 40000\tTotal labour force input\n",
    "ie_labour_force_df = aact_ali02_df.query(\"geo=='IE' and itm_newa==40000\")\n",
    "\n",
    "# PROD_PP\tProduction value at producer price\n",
    "ie_procution_value_producer_price_df = aact_eaa05_df.query(\"geo=='IE' and indic_ag=='PROD_PP'\")\n",
    "\n",
    "# IND_A_EURO\tIndicator A: Index of the real income of factors in agriculture per annual work unit\n",
    "ie_indicator_a_df = aact_eaa06_df.query(\"geo=='IE' and itm_newa=='IND_A_EURO'\")\n"
   ]
  },
  {
   "cell_type": "code",
   "execution_count": 17,
   "metadata": {},
   "outputs": [
    {
     "data": {
      "text/plain": [
       "((64, 9), (20259, 11), (77, 9))"
      ]
     },
     "execution_count": 17,
     "metadata": {},
     "output_type": "execute_result"
    }
   ],
   "source": [
    "ie_labour_force_df.shape, ie_procution_value_producer_price_df.shape, ie_indicator_a_df.shape"
   ]
  },
  {
   "cell_type": "markdown",
   "metadata": {},
   "source": [
    "### Visualize Production value at producer price"
   ]
  },
  {
   "cell_type": "code",
   "execution_count": 18,
   "metadata": {},
   "outputs": [],
   "source": [
    "prod_pp_codelist_pd = pd.read_csv(\"../data/eurostat/economic_accounts/aact_eaa05_codelists/ESTAT_ITM_NEWA_en.tsv\", \n",
    "                                  sep='\\t',names=[\"code\",\"code_name\"])"
   ]
  },
  {
   "cell_type": "code",
   "execution_count": 19,
   "metadata": {},
   "outputs": [
    {
     "data": {
      "text/html": [
       "<div>\n",
       "<style scoped>\n",
       "    .dataframe tbody tr th:only-of-type {\n",
       "        vertical-align: middle;\n",
       "    }\n",
       "\n",
       "    .dataframe tbody tr th {\n",
       "        vertical-align: top;\n",
       "    }\n",
       "\n",
       "    .dataframe thead th {\n",
       "        text-align: right;\n",
       "    }\n",
       "</style>\n",
       "<table border=\"1\" class=\"dataframe\">\n",
       "  <thead>\n",
       "    <tr style=\"text-align: right;\">\n",
       "      <th></th>\n",
       "      <th>code</th>\n",
       "      <th>code_name</th>\n",
       "    </tr>\n",
       "  </thead>\n",
       "  <tbody>\n",
       "    <tr>\n",
       "      <th>0</th>\n",
       "      <td>01000</td>\n",
       "      <td>Cereals (including seeds)</td>\n",
       "    </tr>\n",
       "    <tr>\n",
       "      <th>1</th>\n",
       "      <td>01100</td>\n",
       "      <td>Wheat and spelt</td>\n",
       "    </tr>\n",
       "    <tr>\n",
       "      <th>2</th>\n",
       "      <td>01110</td>\n",
       "      <td>Soft wheat and spelt</td>\n",
       "    </tr>\n",
       "    <tr>\n",
       "      <th>3</th>\n",
       "      <td>01120</td>\n",
       "      <td>Durum wheat</td>\n",
       "    </tr>\n",
       "    <tr>\n",
       "      <th>4</th>\n",
       "      <td>01200</td>\n",
       "      <td>Rye and meslin</td>\n",
       "    </tr>\n",
       "    <tr>\n",
       "      <th>...</th>\n",
       "      <td>...</td>\n",
       "      <td>...</td>\n",
       "    </tr>\n",
       "    <tr>\n",
       "      <th>211</th>\n",
       "      <td>IND_B_EURO</td>\n",
       "      <td>Indicator B: Index of real net agricultural en...</td>\n",
       "    </tr>\n",
       "    <tr>\n",
       "      <th>212</th>\n",
       "      <td>IND_C_EURO</td>\n",
       "      <td>Indicator C: Net entrepreneurial income of agr...</td>\n",
       "    </tr>\n",
       "    <tr>\n",
       "      <th>213</th>\n",
       "      <td>IND_A</td>\n",
       "      <td>Indicator A: Index of the real income of facto...</td>\n",
       "    </tr>\n",
       "    <tr>\n",
       "      <th>214</th>\n",
       "      <td>IND_B</td>\n",
       "      <td>Indicator B: Index of real net agricultural en...</td>\n",
       "    </tr>\n",
       "    <tr>\n",
       "      <th>215</th>\n",
       "      <td>IND_C</td>\n",
       "      <td>Indicator C: Net entrepreneurial income of agr...</td>\n",
       "    </tr>\n",
       "  </tbody>\n",
       "</table>\n",
       "<p>216 rows × 2 columns</p>\n",
       "</div>"
      ],
      "text/plain": [
       "           code                                          code_name\n",
       "0         01000                          Cereals (including seeds)\n",
       "1         01100                                    Wheat and spelt\n",
       "2         01110                               Soft wheat and spelt\n",
       "3         01120                                        Durum wheat\n",
       "4         01200                                     Rye and meslin\n",
       "..          ...                                                ...\n",
       "211  IND_B_EURO  Indicator B: Index of real net agricultural en...\n",
       "212  IND_C_EURO  Indicator C: Net entrepreneurial income of agr...\n",
       "213       IND_A  Indicator A: Index of the real income of facto...\n",
       "214       IND_B  Indicator B: Index of real net agricultural en...\n",
       "215       IND_C  Indicator C: Net entrepreneurial income of agr...\n",
       "\n",
       "[216 rows x 2 columns]"
      ]
     },
     "execution_count": 19,
     "metadata": {},
     "output_type": "execute_result"
    }
   ],
   "source": [
    "prod_pp_codelist_pd"
   ]
  },
  {
   "cell_type": "code",
   "execution_count": 20,
   "metadata": {},
   "outputs": [],
   "source": [
    "prod_pp_codelist_pd[\"description\"] =  '(' + prod_pp_codelist_pd.code + ') ' + prod_pp_codelist_pd.code_name"
   ]
  },
  {
   "cell_type": "code",
   "execution_count": 21,
   "metadata": {},
   "outputs": [
    {
     "name": "stderr",
     "output_type": "stream",
     "text": [
      "C:\\Users\\rmsry\\AppData\\Local\\Temp\\ipykernel_13044\\882987090.py:2: SettingWithCopyWarning: \n",
      "A value is trying to be set on a copy of a slice from a DataFrame.\n",
      "Try using .loc[row_indexer,col_indexer] = value instead\n",
      "\n",
      "See the caveats in the documentation: https://pandas.pydata.org/pandas-docs/stable/user_guide/indexing.html#returning-a-view-versus-a-copy\n",
      "  ie_procution_value_producer_price_df[\"itm_newa\"] = ie_procution_value_producer_price_df.itm_newa.apply(lambda x: f'{x:05d}')\n"
     ]
    }
   ],
   "source": [
    "# convert itm_newa to string 1000 -> 01000\n",
    "ie_procution_value_producer_price_df[\"itm_newa\"] = ie_procution_value_producer_price_df.itm_newa.apply(lambda x: f'{x:05d}')"
   ]
  },
  {
   "cell_type": "code",
   "execution_count": 22,
   "metadata": {},
   "outputs": [],
   "source": [
    "ie_procution_value_producer_price_df = ie_procution_value_producer_price_df.merge(\n",
    "    prod_pp_codelist_pd,\n",
    "    left_on=\"itm_newa\",\n",
    "    right_on=\"code\",\n",
    "    how=\"inner\")"
   ]
  },
  {
   "cell_type": "code",
   "execution_count": 24,
   "metadata": {},
   "outputs": [
    {
     "data": {
      "text/html": [
       "<div>\n",
       "<style scoped>\n",
       "    .dataframe tbody tr th:only-of-type {\n",
       "        vertical-align: middle;\n",
       "    }\n",
       "\n",
       "    .dataframe tbody tr th {\n",
       "        vertical-align: top;\n",
       "    }\n",
       "\n",
       "    .dataframe thead th {\n",
       "        text-align: right;\n",
       "    }\n",
       "</style>\n",
       "<table border=\"1\" class=\"dataframe\">\n",
       "  <thead>\n",
       "    <tr style=\"text-align: right;\">\n",
       "      <th></th>\n",
       "      <th>DATAFLOW</th>\n",
       "      <th>LAST UPDATE</th>\n",
       "      <th>freq</th>\n",
       "      <th>itm_newa</th>\n",
       "      <th>indic_ag</th>\n",
       "      <th>p_adj</th>\n",
       "      <th>unit</th>\n",
       "      <th>geo</th>\n",
       "      <th>TIME_PERIOD</th>\n",
       "      <th>OBS_VALUE</th>\n",
       "      <th>OBS_FLAG</th>\n",
       "      <th>code</th>\n",
       "      <th>code_name</th>\n",
       "      <th>description</th>\n",
       "    </tr>\n",
       "  </thead>\n",
       "  <tbody>\n",
       "    <tr>\n",
       "      <th>0</th>\n",
       "      <td>ESTAT:AACT_EAA05(1.0)</td>\n",
       "      <td>14/03/22 11:00:00</td>\n",
       "      <td>A</td>\n",
       "      <td>01000</td>\n",
       "      <td>PROD_PP</td>\n",
       "      <td>NP</td>\n",
       "      <td>I05</td>\n",
       "      <td>IE</td>\n",
       "      <td>1990</td>\n",
       "      <td>120.01</td>\n",
       "      <td>NaN</td>\n",
       "      <td>01000</td>\n",
       "      <td>Cereals (including seeds)</td>\n",
       "      <td>(01000) Cereals (including seeds)</td>\n",
       "    </tr>\n",
       "    <tr>\n",
       "      <th>1</th>\n",
       "      <td>ESTAT:AACT_EAA05(1.0)</td>\n",
       "      <td>14/03/22 11:00:00</td>\n",
       "      <td>A</td>\n",
       "      <td>01000</td>\n",
       "      <td>PROD_PP</td>\n",
       "      <td>NP</td>\n",
       "      <td>I05</td>\n",
       "      <td>IE</td>\n",
       "      <td>1991</td>\n",
       "      <td>121.31</td>\n",
       "      <td>NaN</td>\n",
       "      <td>01000</td>\n",
       "      <td>Cereals (including seeds)</td>\n",
       "      <td>(01000) Cereals (including seeds)</td>\n",
       "    </tr>\n",
       "    <tr>\n",
       "      <th>2</th>\n",
       "      <td>ESTAT:AACT_EAA05(1.0)</td>\n",
       "      <td>14/03/22 11:00:00</td>\n",
       "      <td>A</td>\n",
       "      <td>01000</td>\n",
       "      <td>PROD_PP</td>\n",
       "      <td>NP</td>\n",
       "      <td>I05</td>\n",
       "      <td>IE</td>\n",
       "      <td>1992</td>\n",
       "      <td>115.23</td>\n",
       "      <td>NaN</td>\n",
       "      <td>01000</td>\n",
       "      <td>Cereals (including seeds)</td>\n",
       "      <td>(01000) Cereals (including seeds)</td>\n",
       "    </tr>\n",
       "    <tr>\n",
       "      <th>3</th>\n",
       "      <td>ESTAT:AACT_EAA05(1.0)</td>\n",
       "      <td>14/03/22 11:00:00</td>\n",
       "      <td>A</td>\n",
       "      <td>01000</td>\n",
       "      <td>PROD_PP</td>\n",
       "      <td>NP</td>\n",
       "      <td>I05</td>\n",
       "      <td>IE</td>\n",
       "      <td>1993</td>\n",
       "      <td>111.15</td>\n",
       "      <td>NaN</td>\n",
       "      <td>01000</td>\n",
       "      <td>Cereals (including seeds)</td>\n",
       "      <td>(01000) Cereals (including seeds)</td>\n",
       "    </tr>\n",
       "    <tr>\n",
       "      <th>4</th>\n",
       "      <td>ESTAT:AACT_EAA05(1.0)</td>\n",
       "      <td>14/03/22 11:00:00</td>\n",
       "      <td>A</td>\n",
       "      <td>01000</td>\n",
       "      <td>PROD_PP</td>\n",
       "      <td>NP</td>\n",
       "      <td>I05</td>\n",
       "      <td>IE</td>\n",
       "      <td>1994</td>\n",
       "      <td>95.46</td>\n",
       "      <td>NaN</td>\n",
       "      <td>01000</td>\n",
       "      <td>Cereals (including seeds)</td>\n",
       "      <td>(01000) Cereals (including seeds)</td>\n",
       "    </tr>\n",
       "    <tr>\n",
       "      <th>...</th>\n",
       "      <td>...</td>\n",
       "      <td>...</td>\n",
       "      <td>...</td>\n",
       "      <td>...</td>\n",
       "      <td>...</td>\n",
       "      <td>...</td>\n",
       "      <td>...</td>\n",
       "      <td>...</td>\n",
       "      <td>...</td>\n",
       "      <td>...</td>\n",
       "      <td>...</td>\n",
       "      <td>...</td>\n",
       "      <td>...</td>\n",
       "      <td>...</td>\n",
       "    </tr>\n",
       "    <tr>\n",
       "      <th>20254</th>\n",
       "      <td>ESTAT:AACT_EAA05(1.0)</td>\n",
       "      <td>14/03/22 11:00:00</td>\n",
       "      <td>A</td>\n",
       "      <td>18000</td>\n",
       "      <td>PROD_PP</td>\n",
       "      <td>VOL</td>\n",
       "      <td>I_N_1</td>\n",
       "      <td>IE</td>\n",
       "      <td>2017</td>\n",
       "      <td>103.83</td>\n",
       "      <td>NaN</td>\n",
       "      <td>18000</td>\n",
       "      <td>OUTPUT OF THE AGRICULTURAL 'INDUSTRY'</td>\n",
       "      <td>(18000) OUTPUT OF THE AGRICULTURAL 'INDUSTRY'</td>\n",
       "    </tr>\n",
       "    <tr>\n",
       "      <th>20255</th>\n",
       "      <td>ESTAT:AACT_EAA05(1.0)</td>\n",
       "      <td>14/03/22 11:00:00</td>\n",
       "      <td>A</td>\n",
       "      <td>18000</td>\n",
       "      <td>PROD_PP</td>\n",
       "      <td>VOL</td>\n",
       "      <td>I_N_1</td>\n",
       "      <td>IE</td>\n",
       "      <td>2018</td>\n",
       "      <td>101.30</td>\n",
       "      <td>NaN</td>\n",
       "      <td>18000</td>\n",
       "      <td>OUTPUT OF THE AGRICULTURAL 'INDUSTRY'</td>\n",
       "      <td>(18000) OUTPUT OF THE AGRICULTURAL 'INDUSTRY'</td>\n",
       "    </tr>\n",
       "    <tr>\n",
       "      <th>20256</th>\n",
       "      <td>ESTAT:AACT_EAA05(1.0)</td>\n",
       "      <td>14/03/22 11:00:00</td>\n",
       "      <td>A</td>\n",
       "      <td>18000</td>\n",
       "      <td>PROD_PP</td>\n",
       "      <td>VOL</td>\n",
       "      <td>I_N_1</td>\n",
       "      <td>IE</td>\n",
       "      <td>2019</td>\n",
       "      <td>103.89</td>\n",
       "      <td>NaN</td>\n",
       "      <td>18000</td>\n",
       "      <td>OUTPUT OF THE AGRICULTURAL 'INDUSTRY'</td>\n",
       "      <td>(18000) OUTPUT OF THE AGRICULTURAL 'INDUSTRY'</td>\n",
       "    </tr>\n",
       "    <tr>\n",
       "      <th>20257</th>\n",
       "      <td>ESTAT:AACT_EAA05(1.0)</td>\n",
       "      <td>14/03/22 11:00:00</td>\n",
       "      <td>A</td>\n",
       "      <td>18000</td>\n",
       "      <td>PROD_PP</td>\n",
       "      <td>VOL</td>\n",
       "      <td>I_N_1</td>\n",
       "      <td>IE</td>\n",
       "      <td>2020</td>\n",
       "      <td>101.46</td>\n",
       "      <td>NaN</td>\n",
       "      <td>18000</td>\n",
       "      <td>OUTPUT OF THE AGRICULTURAL 'INDUSTRY'</td>\n",
       "      <td>(18000) OUTPUT OF THE AGRICULTURAL 'INDUSTRY'</td>\n",
       "    </tr>\n",
       "    <tr>\n",
       "      <th>20258</th>\n",
       "      <td>ESTAT:AACT_EAA05(1.0)</td>\n",
       "      <td>14/03/22 11:00:00</td>\n",
       "      <td>A</td>\n",
       "      <td>18000</td>\n",
       "      <td>PROD_PP</td>\n",
       "      <td>VOL</td>\n",
       "      <td>I_N_1</td>\n",
       "      <td>IE</td>\n",
       "      <td>2021</td>\n",
       "      <td>102.08</td>\n",
       "      <td>e</td>\n",
       "      <td>18000</td>\n",
       "      <td>OUTPUT OF THE AGRICULTURAL 'INDUSTRY'</td>\n",
       "      <td>(18000) OUTPUT OF THE AGRICULTURAL 'INDUSTRY'</td>\n",
       "    </tr>\n",
       "  </tbody>\n",
       "</table>\n",
       "<p>20259 rows × 14 columns</p>\n",
       "</div>"
      ],
      "text/plain": [
       "                    DATAFLOW        LAST UPDATE freq itm_newa indic_ag p_adj  \\\n",
       "0      ESTAT:AACT_EAA05(1.0)  14/03/22 11:00:00    A    01000  PROD_PP    NP   \n",
       "1      ESTAT:AACT_EAA05(1.0)  14/03/22 11:00:00    A    01000  PROD_PP    NP   \n",
       "2      ESTAT:AACT_EAA05(1.0)  14/03/22 11:00:00    A    01000  PROD_PP    NP   \n",
       "3      ESTAT:AACT_EAA05(1.0)  14/03/22 11:00:00    A    01000  PROD_PP    NP   \n",
       "4      ESTAT:AACT_EAA05(1.0)  14/03/22 11:00:00    A    01000  PROD_PP    NP   \n",
       "...                      ...                ...  ...      ...      ...   ...   \n",
       "20254  ESTAT:AACT_EAA05(1.0)  14/03/22 11:00:00    A    18000  PROD_PP   VOL   \n",
       "20255  ESTAT:AACT_EAA05(1.0)  14/03/22 11:00:00    A    18000  PROD_PP   VOL   \n",
       "20256  ESTAT:AACT_EAA05(1.0)  14/03/22 11:00:00    A    18000  PROD_PP   VOL   \n",
       "20257  ESTAT:AACT_EAA05(1.0)  14/03/22 11:00:00    A    18000  PROD_PP   VOL   \n",
       "20258  ESTAT:AACT_EAA05(1.0)  14/03/22 11:00:00    A    18000  PROD_PP   VOL   \n",
       "\n",
       "        unit geo  TIME_PERIOD  OBS_VALUE OBS_FLAG   code  \\\n",
       "0        I05  IE         1990     120.01      NaN  01000   \n",
       "1        I05  IE         1991     121.31      NaN  01000   \n",
       "2        I05  IE         1992     115.23      NaN  01000   \n",
       "3        I05  IE         1993     111.15      NaN  01000   \n",
       "4        I05  IE         1994      95.46      NaN  01000   \n",
       "...      ...  ..          ...        ...      ...    ...   \n",
       "20254  I_N_1  IE         2017     103.83      NaN  18000   \n",
       "20255  I_N_1  IE         2018     101.30      NaN  18000   \n",
       "20256  I_N_1  IE         2019     103.89      NaN  18000   \n",
       "20257  I_N_1  IE         2020     101.46      NaN  18000   \n",
       "20258  I_N_1  IE         2021     102.08        e  18000   \n",
       "\n",
       "                                   code_name  \\\n",
       "0                  Cereals (including seeds)   \n",
       "1                  Cereals (including seeds)   \n",
       "2                  Cereals (including seeds)   \n",
       "3                  Cereals (including seeds)   \n",
       "4                  Cereals (including seeds)   \n",
       "...                                      ...   \n",
       "20254  OUTPUT OF THE AGRICULTURAL 'INDUSTRY'   \n",
       "20255  OUTPUT OF THE AGRICULTURAL 'INDUSTRY'   \n",
       "20256  OUTPUT OF THE AGRICULTURAL 'INDUSTRY'   \n",
       "20257  OUTPUT OF THE AGRICULTURAL 'INDUSTRY'   \n",
       "20258  OUTPUT OF THE AGRICULTURAL 'INDUSTRY'   \n",
       "\n",
       "                                         description  \n",
       "0                  (01000) Cereals (including seeds)  \n",
       "1                  (01000) Cereals (including seeds)  \n",
       "2                  (01000) Cereals (including seeds)  \n",
       "3                  (01000) Cereals (including seeds)  \n",
       "4                  (01000) Cereals (including seeds)  \n",
       "...                                              ...  \n",
       "20254  (18000) OUTPUT OF THE AGRICULTURAL 'INDUSTRY'  \n",
       "20255  (18000) OUTPUT OF THE AGRICULTURAL 'INDUSTRY'  \n",
       "20256  (18000) OUTPUT OF THE AGRICULTURAL 'INDUSTRY'  \n",
       "20257  (18000) OUTPUT OF THE AGRICULTURAL 'INDUSTRY'  \n",
       "20258  (18000) OUTPUT OF THE AGRICULTURAL 'INDUSTRY'  \n",
       "\n",
       "[20259 rows x 14 columns]"
      ]
     },
     "execution_count": 24,
     "metadata": {},
     "output_type": "execute_result"
    }
   ],
   "source": [
    "ie_procution_value_producer_price_df"
   ]
  },
  {
   "cell_type": "code",
   "execution_count": null,
   "metadata": {},
   "outputs": [],
   "source": [
    "ie_eaa_df = ie_procution_value_producer_price_df[[\"code\",\"description\",\"p_adj\",\"unit\", \"freq\", \"TIME_PERIOD\",\"OBS_VALUE\"]]\n",
    "ie_eaa_df.columns = [\"code\",\"description\",\"price_adj\",\"unit\",\"frequence\",\"year\",\"value\"]"
   ]
  },
  {
   "cell_type": "code",
   "execution_count": null,
   "metadata": {},
   "outputs": [],
   "source": [
    "ie_eaa_df.groupby(\"unit\").size()"
   ]
  },
  {
   "cell_type": "code",
   "execution_count": null,
   "metadata": {},
   "outputs": [],
   "source": [
    "from matplotlib import pyplot as plt\n",
    "sns.set_theme(style=\"whitegrid\")\n",
    "plt.figure(figsize=(18,10))\n",
    "filter_items = [\"01000\",\"02000\",\"03000\",\"04000\",\"05000\",\"06000\"]\n",
    "sns.lineplot(data=ie_eaa_df.query(\"unit == 'I_N_1' and price_adj=='RP' and code in @filter_items\"),\n",
    "            palette=\"tab10\", \n",
    "            hue=\"description\", \n",
    "            x=\"year\", \n",
    "            y=\"value\",\n",
    "            marker=\"o\")"
   ]
  },
  {
   "cell_type": "markdown",
   "metadata": {},
   "source": [
    "# Interactive Dashboards\n",
    "## Indicator A"
   ]
  },
  {
   "cell_type": "code",
   "execution_count": null,
   "metadata": {},
   "outputs": [],
   "source": [
    "import plotly.graph_objects as go"
   ]
  },
  {
   "cell_type": "code",
   "execution_count": null,
   "metadata": {},
   "outputs": [],
   "source": [
    "country_codes = pd.read_csv(\"../data/country_codes.tsv\", sep='\\t')\n",
    "country_codes.head()"
   ]
  },
  {
   "cell_type": "code",
   "execution_count": null,
   "metadata": {},
   "outputs": [],
   "source": [
    "incidator_a_df = aact_eaa06_df.query(\"itm_newa=='IND_A_EURO'\")\n",
    "incidator_a_df = incidator_a_df.merge(country_codes,left_on=\"geo\", right_on=\"Alpha-2 code\", how=\"inner\")"
   ]
  },
  {
   "cell_type": "code",
   "execution_count": null,
   "metadata": {},
   "outputs": [],
   "source": [
    "import geojson\n",
    "from urllib.request import urlopen\n",
    "import json\n",
    "\n",
    "    \n",
    "# https://github.com/eurostat/Nuts2json\n",
    "# https://raw.githubusercontent.com/eurostat/Nuts2json/master/2021/4326/20M/nutsbn_0.json\n",
    "# Europe GeoJson Administrative units\n",
    "# Opening JSON file\n",
    "\n",
    "with urlopen('https://raw.githubusercontent.com/eurostat/Nuts2json/master/2021/4326/20M/nutsrg_0.json') as response:\n",
    "    countries = json.load(response)\n"
   ]
  },
  {
   "cell_type": "code",
   "execution_count": null,
   "metadata": {},
   "outputs": [],
   "source": [
    "#incidator_a_df.query(\"TIME_PERIOD == 2021 and itm_newa == 'IND_A_EURO' and unit == 'I_N_1'\")"
   ]
  },
  {
   "cell_type": "code",
   "execution_count": null,
   "metadata": {},
   "outputs": [],
   "source": [
    "from urllib.request import urlopen\n",
    "import json\n",
    "with urlopen('https://raw.githubusercontent.com/eurostat/Nuts2json/master/2021/4326/20M/nutsrg_0.json') as response:\n",
    "    counties = json.load(response)\n",
    "\n",
    "#counties[\"features\"][0]\n",
    "\n"
   ]
  },
  {
   "cell_type": "code",
   "execution_count": null,
   "metadata": {},
   "outputs": [],
   "source": [
    "df = incidator_a_df.query(\"itm_newa == 'IND_A_EURO' and unit == 'I_N_1'\")\n",
    "df = df.sort_values(by=['geo', 'TIME_PERIOD'])"
   ]
  },
  {
   "cell_type": "code",
   "execution_count": null,
   "metadata": {},
   "outputs": [],
   "source": [
    "#df.geo.unique()"
   ]
  },
  {
   "cell_type": "code",
   "execution_count": null,
   "metadata": {},
   "outputs": [],
   "source": [
    "#df.query(\"geo == 'IE'\").TIME_PERIOD.sort_values().unique()"
   ]
  },
  {
   "cell_type": "code",
   "execution_count": null,
   "metadata": {},
   "outputs": [],
   "source": [
    "fig = px.choropleth_mapbox(df.query(\"TIME_PERIOD > 1991\"),\n",
    "                           geojson=counties,\n",
    "                           locations='geo',\n",
    "                           featureidkey=\"properties.id\",\n",
    "                           animation_frame=\"TIME_PERIOD\",\n",
    "                           color='OBS_VALUE',\n",
    "                           color_continuous_scale=\"Viridis\",\n",
    "                           range_color=(df.OBS_VALUE.min(), df.OBS_VALUE.max()),\n",
    "                           mapbox_style=\"carto-positron\",\n",
    "                           zoom=3,\n",
    "                           center = {\"lat\": 48.289228872600525, \"lon\": 10.897123483023739},\n",
    "                           opacity=0.5,\n",
    "                           labels={'OBS_VALUE':'Value'}\n",
    "                          )\n",
    "#fig.update_layout(margin={\"r\":0,\"t\":0,\"l\":0,\"b\":0})\n",
    "fig.show(renderer=\"svg\")"
   ]
  },
  {
   "cell_type": "markdown",
   "metadata": {},
   "source": [
    "# Create dasboard for Economic accounts for agriculture"
   ]
  },
  {
   "cell_type": "code",
   "execution_count": null,
   "metadata": {},
   "outputs": [],
   "source": [
    "import tkinter as tk\n",
    "from datetime import datetime\n",
    "from matplotlib.backends.backend_tkagg import FigureCanvasTkAgg\n",
    "\n",
    "eaa_dash_title     = 'Economic accounts for agriculture'\n",
    "eaa_root_bg_colour = '#c7d5e0'\n",
    "eaa_bg_colour      = '#1b2838'\n",
    "eaa_bg_main        =  '#2a475e'\n",
    "eaa_fg_colour      =  'white'\n",
    "eaa_font_title     = 'Arial 20 bold'\n",
    "eaa_font           = 'Arial 15 bold'\n",
    "eaa_font_color     = 'Dark Grey'\n",
    "eaa_small_font     = 'Arial 7 bold'\n",
    "\n",
    "\n",
    "root = tk.Tk()\n",
    "root.resizable(False, False)\n",
    "root.geometry('1305x780')\n",
    "root.title(eaa_dash_title)\n",
    "root.configure(bg=eaa_root_bg_colour)\n",
    "\n",
    "# Header\n",
    "top_bg = tk.Canvas(root, width=1305, height=60, bg=eaa_bg_colour, highlightthickness=0).place(x=0, y=0)\n",
    "tk.Label(top_bg,\n",
    "         text=eaa_dash_title,\n",
    "         font=eaa_font,\n",
    "         bg=eaa_bg_colour,\n",
    "         fg=eaa_fg_colour).place(x=15, y=3)\n",
    "tk.Label(top_bg,\n",
    "         text=datetime.now().strftime('%A, %d %B %Y'),\n",
    "         font=eaa_font,\n",
    "         bg=eaa_bg_colour,\n",
    "         fg=eaa_fg_colour).place(x=930, y=8)\n",
    "\n",
    "# Filters\n",
    "filter_box = tk.Canvas(root, width=350, height=660, bg=eaa_bg_main, highlightthickness=0).place(x=20, y=100)\n",
    "filter_box = tk.Canvas(root, width=350, height=20, bg=eaa_bg_colour, highlightthickness=0).place(x=20, y=80)\n",
    "tk.Label(filter_box, text='Filters', font=eaa_small_font, bg=eaa_bg_colour,\n",
    "         fg=eaa_font_color).place(x=25, y=80)\n",
    "\n",
    "# Body - Plot\n",
    "body_box = tk.Canvas(root, width=890, height=660, bg=eaa_bg_main, highlightthickness=0).place(x=390, y=100)\n",
    "body_box = tk.Canvas(root, width=890, height=20, bg=eaa_bg_colour, highlightthickness=0).place(x=390, y=80)\n",
    "tk.Label(body_box, text='Plot', font=eaa_small_font, bg=eaa_bg_colour,\n",
    "         fg=eaa_font_color).place(x=390, y=80)\n",
    "\n",
    "\n",
    "# Figure\n",
    "figure1 = plt.Figure(figsize=(6,5),dpi=100) # inches as the unit of meassure for the figure.\n",
    "ax=figure1.add_subplot(111)\n",
    "mapbox= px.choropleth_mapbox(df.query(\"TIME_PERIOD > 1991\"),\n",
    "        geojson=counties,\n",
    "        locations='geo',\n",
    "        featureidkey=\"properties.id\",\n",
    "        animation_frame=\"TIME_PERIOD\",\n",
    "        color='OBS_VALUE',\n",
    "        color_continuous_scale=\"Viridis\",\n",
    "        range_color=(df.OBS_VALUE.min(), df.OBS_VALUE.max()),\n",
    "        mapbox_style=\"carto-positron\",\n",
    "        zoom=3,\n",
    "        center = {\"lat\": 48.289228872600525, \"lon\": 10.897123483023739},\n",
    "        opacity=0.5,\n",
    "        labels={'OBS_VALUE':'Value'}\n",
    "      )\n",
    "mapbox.update_layout(margin={\"r\":0,\"t\":0,\"l\":0,\"b\":0})\n",
    "\n",
    "\n",
    "FigureCanvasTkAgg(figure1, root)\n",
    "\n",
    "\n",
    "# MAINLOOP\n",
    "root.mainloop()"
   ]
  },
  {
   "cell_type": "code",
   "execution_count": null,
   "metadata": {},
   "outputs": [],
   "source": [
    "import tkinter\n",
    "\n",
    "from matplotlib.backends.backend_tkagg import (\n",
    "    FigureCanvasTkAgg, NavigationToolbar2Tk)\n",
    "# Implement the default Matplotlib key bindings.\n",
    "from matplotlib.backend_bases import key_press_handler\n",
    "from matplotlib.figure import Figure\n",
    "\n",
    "import numpy as np\n",
    "\n",
    "\n",
    "root = tkinter.Tk()\n",
    "root.wm_title(\"Embedding in Tk\")\n",
    "\n",
    "fig = Figure(figsize=(5, 4), dpi=100)\n",
    "t = np.arange(0, 3, .01)\n",
    "ax = fig.add_subplot()\n",
    "line, = ax.plot(t, 2 * np.sin(2 * np.pi * t))\n",
    "ax.set_xlabel(\"time [s]\")\n",
    "ax.set_ylabel(\"f(t)\")\n",
    "\n",
    "canvas = FigureCanvasTkAgg(fig, master=root)  # A tk.DrawingArea.\n",
    "canvas.draw()\n",
    "\n",
    "# pack_toolbar=False will make it easier to use a layout manager later on.\n",
    "toolbar = NavigationToolbar2Tk(canvas, root, pack_toolbar=False)\n",
    "toolbar.update()\n",
    "\n",
    "canvas.mpl_connect(\n",
    "    \"key_press_event\", lambda event: print(f\"you pressed {event.key}\"))\n",
    "canvas.mpl_connect(\"key_press_event\", key_press_handler)\n",
    "\n",
    "button_quit = tkinter.Button(master=root, text=\"Quit\", command=root.quit)\n",
    "\n",
    "\n",
    "def update_frequency(new_val):\n",
    "    # retrieve frequency\n",
    "    f = float(new_val)\n",
    "\n",
    "    # update data\n",
    "    y = 2 * np.sin(2 * np.pi * f * t)\n",
    "    line.set_data(t, y)\n",
    "\n",
    "    # required to update canvas and attached toolbar!\n",
    "    canvas.draw()\n",
    "\n",
    "\n",
    "slider_update = tkinter.Scale(root, from_=1, to=5, orient=tkinter.HORIZONTAL,\n",
    "                              command=update_frequency, label=\"Frequency [Hz]\")\n",
    "\n",
    "# Packing order is important. Widgets are processed sequentially and if there\n",
    "# is no space left, because the window is too small, they are not displayed.\n",
    "# The canvas is rather flexible in its size, so we pack it last which makes\n",
    "# sure the UI controls are displayed as long as possible.\n",
    "button_quit.pack(side=tkinter.BOTTOM)\n",
    "slider_update.pack(side=tkinter.BOTTOM)\n",
    "toolbar.pack(side=tkinter.BOTTOM, fill=tkinter.X)\n",
    "canvas.get_tk_widget().pack(side=tkinter.TOP, fill=tkinter.BOTH, expand=1)\n",
    "\n",
    "\n",
    "tkinter.mainloop()\n"
   ]
  }
 ],
 "metadata": {
  "interpreter": {
   "hash": "4c336f7bfc73179085ae8f866c8f0055bc59896acda20a450ad7008a76c4aea3"
  },
  "kernelspec": {
   "display_name": "ca2_env",
   "language": "python",
   "name": "ca2_env"
  },
  "language_info": {
   "codemirror_mode": {
    "name": "ipython",
    "version": 3
   },
   "file_extension": ".py",
   "mimetype": "text/x-python",
   "name": "python",
   "nbconvert_exporter": "python",
   "pygments_lexer": "ipython3",
   "version": "3.9.12"
  }
 },
 "nbformat": 4,
 "nbformat_minor": 2
}
