{
 "cells": [
  {
   "cell_type": "markdown",
   "metadata": {},
   "source": [
    "# Prerequisites\n",
    "\n",
    "- Python 3.10.4\n",
    "\n",
    "> Warning: Installation from conda environment may take few minutes\n",
    "\n",
    "Configuring conda environment\n",
    "```cmd\n",
    "conda create -n ca2_env\n",
    "conda activate ca2_env\n",
    "conda install -c conda-forge pingouin\n",
    "```\n",
    "\n",
    "Installing jupyter notebook on ca2_env environment\n",
    "```cmd\n",
    "conda install jupyter notebook\n",
    "python -m ipykernel install --name ca2_env\n",
    "```\n",
    "\n",
    "Run jupiter \n",
    "```cmd\n",
    "jupyter notebook\n",
    "```"
   ]
  },
  {
   "cell_type": "code",
   "execution_count": null,
   "metadata": {},
   "outputs": [],
   "source": [
    "from preamble import agriculture\n",
    "import pandas as pd\n",
    "import numpy as np\n",
    "import matplotlib.pyplot as plt\n",
    "import pingouin as pg\n",
    "import seaborn as sns;\n",
    "from scipy import stats \n",
    "from scipy.stats import f_oneway\n",
    "from statsmodels.formula.api import ols\n",
    "import statsmodels.stats.multicomp as mc\n",
    "import statsmodels.api as sm\n",
    "from IPython.display import display, Markdown, Latex\n",
    "\n",
    "# Change default colormap\n",
    "plt.rcParams[\"image.cmap\"] = \"Set2\"\n",
    "sns.set_palette(\"Set2\")\n",
    "sns.color_palette(\"Set2\")\n"
   ]
  },
  {
   "cell_type": "code",
   "execution_count": null,
   "metadata": {},
   "outputs": [],
   "source": [
    "# Datasets\n",
    "agriculture_df = pd.read_csv(\"../data/agriculture_dataset.csv\")\n",
    "ireland = agriculture_df.query(\"country == 'IE'\")\n",
    "eu_country_codes = pd.read_csv(\"../data/eu_country_codes.csv\");\n",
    "eu_country_codes.columns = [\"id\",\"description\",\"iso2\"]\n",
    "eu_country_codes = eu_country_codes[[\"iso2\",\"description\"]].set_index(\"iso2\")\n",
    "country_codes_dic =  eu_country_codes.description.to_dict()\n",
    "columns_dic = agriculture.columns_dic"
   ]
  },
  {
   "cell_type": "markdown",
   "metadata": {},
   "source": [
    "# Variable Analysis"
   ]
  },
  {
   "cell_type": "code",
   "execution_count": null,
   "metadata": {},
   "outputs": [],
   "source": [
    "ireland.shape"
   ]
  },
  {
   "cell_type": "code",
   "execution_count": null,
   "metadata": {},
   "outputs": [],
   "source": [
    "ireland.describe()"
   ]
  },
  {
   "cell_type": "code",
   "execution_count": null,
   "metadata": {},
   "outputs": [],
   "source": [
    "continuous_variables = ireland.dtypes[ireland.dtypes == np.float64].index\n",
    "data = ireland[continuous_variables]\n",
    "sns.set(rc = {'figure.figsize':(15,8)})\n",
    "sns.heatmap(data.corr(), cmap=\"YlGnBu\", annot=True, )"
   ]
  },
  {
   "cell_type": "code",
   "execution_count": null,
   "metadata": {},
   "outputs": [],
   "source": [
    "# Gross Value Added\n",
    "ireland.gross_value_added.describe()"
   ]
  },
  {
   "cell_type": "code",
   "execution_count": null,
   "metadata": {},
   "outputs": [],
   "source": [
    "ireland.info()"
   ]
  },
  {
   "cell_type": "markdown",
   "metadata": {},
   "source": [
    "# Analysis of countries with similar characteristics to Ireland\n",
    "\n",
    "Get countries that have similar GVA or Total Used Agricultural Area similar. \n",
    "- Criteria 1: Countries with GVA on 75% min and max range of Ireland mean GVA\n",
    "- Criteria 2: Test Anova and post hoc analisys to identify countries"
   ]
  },
  {
   "cell_type": "markdown",
   "metadata": {},
   "source": [
    "## Criteria 1: +/- 75 of Irelands GVA"
   ]
  },
  {
   "cell_type": "code",
   "execution_count": null,
   "metadata": {},
   "outputs": [],
   "source": [
    "# Countries with simliar utilised agricultural area than IE\n",
    "uaa_means = agriculture_df.groupby('country').total_uaa_ha.mean().reset_index()\n",
    "gva_means = agriculture_df.groupby('country').gross_value_added.mean().reset_index()\n",
    "ie_uua = uaa_means.query(\"country == 'IE'\").total_uaa_ha.values[0]\n",
    "ie_GVA = gva_means.query(\"country == 'IE'\").gross_value_added.values[0]\n",
    "\n",
    "country_with_similar_uaa = uaa_means.query(f\"\\\n",
    "        total_uaa_ha >= {ie_uua * 0.25} and \\\n",
    "        total_uaa_ha <= {ie_uua * 1.75}\").country.values.flatten()\n",
    "\n",
    "counties_with_similar_gva = gva_means.query(f\"\\\n",
    "        gross_value_added >= {ie_GVA * 0.25} and \\\n",
    "        gross_value_added <= {ie_GVA * 1.75} \\\n",
    "\").country.values.flatten()\n",
    "\n",
    "# Set similar countries to Ireland by UAA and GVA\n",
    "similar_countries = list(set(country_with_similar_uaa).intersection(set(counties_with_similar_gva)))\n",
    "\n"
   ]
  },
  {
   "cell_type": "markdown",
   "metadata": {},
   "source": [
    "## Criteria 2: Anova\n",
    "\n",
    "### T-Test Assumptions\n",
    "\n",
    "1. The first assumption made regarding t-tests concerns the scale of measurement. The assumption for a t-test is that the scale of measurement applied to the data collected follows a continuous or ordinal scale, such as the scores for an IQ test.\n",
    "\n",
    "2. The second assumption made is that of a simple random sample, that the data is collected from a representative, randomly selected portion of the total population.\n",
    "\n",
    "3. The third assumption is the data, when plotted, results in a normal distribution, bell-shaped distribution curve. When a normal distribution is assumed, one can specify a level of probability (alpha level, level of significance, p) as a criterion for acceptance. In most cases, a 5% value can be assumed.\n",
    "\n",
    "4. The fourth assumption is a reasonably large sample size is used. A larger sample size means the distribution of results should approach a normal bell-shaped curve.\n",
    "\n",
    "\n",
    "5. The final assumption is homogeneity of variance. Homogeneous, or equal, variance exists when the standard deviations of samples are approximately equal.\n",
    "\n",
    "ref: Bartlett, M. S. (1937). Properties of sufficiency and statistical tests. Proc. R. Soc. Lond. A, 160(901), 268-282."
   ]
  },
  {
   "cell_type": "code",
   "execution_count": null,
   "metadata": {},
   "outputs": [],
   "source": [
    "# Check normal distribution on GVA for each country\n",
    "variables = agriculture_df.columns\n",
    "results = [[\"country\",\"variable\",\"anova_score\"]]\n",
    "for variable in variables:\n",
    "    if(variable == \"country\"):\n",
    "        continue\n",
    "    if(variable == \"year\"):\n",
    "        continue\n",
    "        \n",
    "    print(\"=======================================================================\")\n",
    "    print(f\"                           {variable}                                 \")\n",
    "    print(\"=======================================================================\")\n",
    "    gva_c_normal_dist = [[]]\n",
    "    for c in agriculture_df.country.unique():\n",
    "        X = agriculture_df.query(f\"country=='{c}'\")[variable]\n",
    "        stat, pvalue = stats.shapiro(X)\n",
    "        if(pvalue > 0.05):\n",
    "            #print(f\"{country_codes_dic.get(c)} / {variable} is normally distributed for a pvalue: {pvalue}\")\n",
    "            if(gva_c_normal_dist[0] == []):\n",
    "                gva_c_normal_dist[0] = [c,pvalue]\n",
    "            else:\n",
    "                gva_c_normal_dist.append([c,pvalue])\n",
    "\n",
    "\n",
    "    similar_countries = np.array(gva_c_normal_dist)[:,0]\n",
    "\n",
    "    #Homogeinity of variance between countries with Ireland for GVA: Levene's test\n",
    "    arr = [[]]\n",
    "    count = 0\n",
    "    for c in similar_countries:\n",
    "        if(c == 'IE'):\n",
    "            continue;\n",
    "\n",
    "        cName = country_codes_dic.get(c)\n",
    "        #print(f\"Analysing Homogeinity test Ireland / {cName}\")\n",
    "        countries = ['IE', c]\n",
    "\n",
    "        ds = agriculture_df.query(\"country in @countries\")\n",
    "        levenes_result = pg.homoscedasticity(ds, dv=variable, group='country', method='levene')\n",
    "        if(arr[0] == []):\n",
    "            arr[0] = list(np.append(levenes_result.values.flatten(),[variable, c]))\n",
    "        else:\n",
    "            arr.insert(count,list(np.append(levenes_result.values.flatten(),[variable, c])))\n",
    "        count += 1\n",
    "\n",
    "    levene_df = pd.DataFrame(arr,columns=[\"W\",\"pvalue\",\"equal_var\",\"variable\",\"country\"])\n",
    "\n",
    "\n",
    "    # Results of countries\n",
    "    levene_df.query(\"equal_var == True\")\n",
    "\n",
    "    similar_countries = list(levene_df.query(\"equal_var == True\").country.unique())\n",
    "    similar_countries.append('IE')\n",
    "\n",
    "    # Run anova report for all valid countries\n",
    "    print(f\"Candidates for ANOVA {similar_countries}\")\n",
    "    dataset = agriculture_df.query(\"country in @similar_countries\")\n",
    "\n",
    "    model = ols(f\"{variable}~country\", data = dataset).fit()\n",
    "    #print(model.summary())\n",
    "    aov2 = sm.stats.anova_lm(model, type=2)\n",
    "    print(aov2)\n",
    "    if(aov2[\"PR(>F)\"].country > 0.05):\n",
    "        results.append([c,variable,aov2[\"PR(>F)\"].country])\n",
    "\n",
    "    comp = mc.MultiComparison(dataset[variable], dataset['country'])\n",
    "    post_hoc_res = comp.tukeyhsd()\n",
    "    result = post_hoc_res.summary()\n",
    "    #f = post_hoc_res.plot_simultaneous(comparison_name=\"IE\",ylabel=\"Country\",xlabel=columns_dic.get(variable))\\\n",
    "    #    .savefig(f\"../visualizations/01_stats_anova_meanplot_{variable}.png\");\n"
   ]
  },
  {
   "cell_type": "code",
   "execution_count": null,
   "metadata": {},
   "outputs": [],
   "source": [
    "print(\"Anava result comparison for Ireland with other Members States and variables\")\n",
    "results_pd = pd.DataFrame.from_records(np.array(results)[1:,:], columns=results[0]);\n",
    "results_pd[\"country_name\"] = results_pd.country.apply(lambda x: country_codes_dic.get(x));\n",
    "results_pd"
   ]
  },
  {
   "cell_type": "markdown",
   "metadata": {},
   "source": [
    "> The following 2 countries are the same as Ireland \n",
    "\n",
    "- Bulgaria subsides on field crops\n",
    "- Slovakia Production of cereals Price\n",
    "\n",
    "However for the shake of analysis indpendant variables, it will be used Criteria 1 for the machine learning. In this exercise we have confirm which countries has similar statiscal characteristics with Ireland. It will be possible to break down europe countries by sub reginal areas which they most likely be closer to the size of Ireland on the selected variables of study."
   ]
  },
  {
   "cell_type": "code",
   "execution_count": null,
   "metadata": {},
   "outputs": [],
   "source": [
    "# Set similar countries to Ireland by UAA and GVA as per Criteria 1\n",
    "similar_countries = list(set(country_with_similar_uaa).intersection(set(counties_with_similar_gva)))"
   ]
  },
  {
   "cell_type": "code",
   "execution_count": null,
   "metadata": {},
   "outputs": [],
   "source": [
    "similar_countries"
   ]
  },
  {
   "cell_type": "markdown",
   "metadata": {},
   "source": [
    "# Inferential Statistics Analysis of variables of the selected countries"
   ]
  },
  {
   "cell_type": "code",
   "execution_count": null,
   "metadata": {},
   "outputs": [],
   "source": [
    "dataset = agriculture_df.query(\"country in @similar_countries\")"
   ]
  },
  {
   "cell_type": "markdown",
   "metadata": {},
   "source": [
    "The criteria for selecting the above countries for the comparison analysis will be further investigating by comparing characteristics of them and analysis on the mean, variance and of the samples taken."
   ]
  },
  {
   "cell_type": "code",
   "execution_count": null,
   "metadata": {},
   "outputs": [],
   "source": [
    "n = len(dataset.year.unique())\n",
    "print(f\"Sample data {n}\")"
   ]
  },
  {
   "cell_type": "markdown",
   "metadata": {},
   "source": [
    "## 1. Ireland "
   ]
  },
  {
   "cell_type": "code",
   "execution_count": null,
   "metadata": {},
   "outputs": [],
   "source": [
    "# Normal distribution check\n",
    "results = [[\"variable\",\"pvalue\"]]\n",
    "for variable in continuous_variables:\n",
    "    pvalue = agriculture.plot_normal_dist(ireland[variable],\n",
    "                     columns_dic.get(variable) , \n",
    "                     f\"../visualizations/01_stats_normaldist_{variable}.png\")\n",
    "    if(pvalue > 0.05):\n",
    "        results.append([variable,pvalue])"
   ]
  },
  {
   "cell_type": "code",
   "execution_count": null,
   "metadata": {},
   "outputs": [],
   "source": [
    "ireland_var_normdist = pd.DataFrame.from_records(np.array(results)[1:,:], columns=results[0])\n",
    "ireland_var_normdist.sort_values(\"variable\")"
   ]
  },
  {
   "cell_type": "markdown",
   "metadata": {},
   "source": [
    "The following variables shows approximately Normal distribution as per fit to histogram plot and regarding probability Plot: The below variables data points plots looks fairly straight, indicating normality.\n",
    "\n",
    "    - \"agri_energy_use_tj\"\n",
    "    - \"cereals_produce_price_usd_tonne\"\n",
    "    - \"compensation_of_employees\"\n",
    "    - \"crop_mean_residues_kg\"\n",
    "    - \"employment_ratio_rural_areas_pct\"\n",
    "    - \"female_employment_ratio_rural_areas_pct\"\n",
    "    - \"female_mean_weekly_working_hours\"\n",
    "    - \"gross_value_added\"\n",
    "    - \"male_employment_ratio_rural_areas_pct\"\n",
    "    - \"male_mean_weekly_working_hours\"\n",
    "    - \"prod_cereals_real_price\"\n",
    "    - \"total_uaa_ha\"\n",
    "    - \"wages_and_salaries\"\n"
   ]
  },
  {
   "cell_type": "code",
   "execution_count": null,
   "metadata": {},
   "outputs": [],
   "source": [
    "variables_normally_dist_candidates = ireland_var_normdist.variable.unique()"
   ]
  },
  {
   "cell_type": "code",
   "execution_count": null,
   "metadata": {},
   "outputs": [],
   "source": [
    "# Shapiro wilk test for normality in Irish dataset\n",
    "variables_normally_dist = []\n",
    "for variable in variables_normally_dist_candidates:\n",
    "    stat, pvalue = stats.shapiro(ireland[variable])\n",
    "    result = \"\"\n",
    "    if(pvalue > 0.05):\n",
    "        variables_normally_dist.append(variable)\n",
    "    else:\n",
    "        print(f\"Removing {variable} with pvalue: {pvalue}\")\n",
    "    \n"
   ]
  },
  {
   "cell_type": "code",
   "execution_count": null,
   "metadata": {},
   "outputs": [],
   "source": [
    "variables_normally_dist"
   ]
  },
  {
   "cell_type": "markdown",
   "metadata": {},
   "source": [
    "# 2. Other member states and Ireland"
   ]
  },
  {
   "cell_type": "markdown",
   "metadata": {},
   "source": [
    "## Check homogeneity of variances all countries / variable"
   ]
  },
  {
   "cell_type": "code",
   "execution_count": null,
   "metadata": {},
   "outputs": [],
   "source": [
    "#Homogeinity of variance: Levene's test\n",
    "arr = [[]]\n",
    "count = 0 \n",
    "for variable in variables_normally_dist:\n",
    "    levenes_result = pg.homoscedasticity(dataset, dv=variable, group='country',method='levene')\n",
    "    if(count == 0):\n",
    "        arr[0] = list(np.append(levenes_result.values.flatten(),[variable, \"all\"]))\n",
    "    else:\n",
    "        arr.insert(count,list(np.append(levenes_result.values.flatten(),[variable, \"all\"])))\n",
    "    \n",
    "    count+=1\n",
    "\n",
    "levene_df = pd.DataFrame(arr,columns=[\"W\",\"pvalue\",\"equal_var\",\"variable\",\"country\"])       \n",
    "levene_df.query(\"equal_var == True\")\n"
   ]
  },
  {
   "cell_type": "markdown",
   "metadata": {},
   "source": [
    "> Variables above indicated have homogeneity of variance for all countries."
   ]
  },
  {
   "cell_type": "markdown",
   "metadata": {},
   "source": [
    "## Check homogeneity of variances within others member states on selected variables"
   ]
  },
  {
   "cell_type": "code",
   "execution_count": null,
   "metadata": {},
   "outputs": [],
   "source": [
    "levene_df.query(\"equal_var == True\").variable\n",
    "\n",
    "for c in similar_countries:\n",
    "    if(c == 'IE'):\n",
    "        continue;\n",
    "    cName = country_codes_dic.get(c)\n",
    "    print(f\"Analysing Homogeinity test Ireland / {cName}\")\n",
    "    countries = ['IE', c]\n",
    "    count = 0\n",
    "    arr = [[]]\n",
    "    for variable in levene_df.query(\"equal_var == True\").variable.unique():\n",
    "        ds = dataset.query(\"country in @countries\")\n",
    "        levenes_result = pg.homoscedasticity(ds, dv=variable, group='country', method='levene')\n",
    "        if(count == 0):\n",
    "            arr[0] = list(np.append(levenes_result.values.flatten(),[variable, c]))\n",
    "        else:\n",
    "            arr.insert(count,list(np.append(levenes_result.values.flatten(),[variable, c])))\n",
    "        count += 1\n",
    "    levene_df = pd.concat([levene_df, pd.DataFrame(arr,columns=[\"W\",\"pvalue\",\"equal_var\",\"variable\",\"country\"])])"
   ]
  },
  {
   "cell_type": "code",
   "execution_count": null,
   "metadata": {},
   "outputs": [],
   "source": [
    "print(\"Variables for selection\")\n",
    "print(\"=======================\")\n",
    "_ = [print(f\"\\t{x}\") for x in levene_df.query(\"equal_var == True\").variable.unique()]\n",
    "\n",
    "print(\"Countries for study\")\n",
    "print(\"=======================\")\n",
    "_ = [print(f\"\\t{country_codes_dic.get(x)}\") for x in levene_df.query(\"equal_var == True\").country.unique()]\n",
    "print(f\"\\t{country_codes_dic.get('IE')}\")"
   ]
  },
  {
   "cell_type": "markdown",
   "metadata": {},
   "source": [
    "# One-way ANOVA \n",
    "## Analysis of all variables and countries for the series of 17 years to test if datatset has no differences among the means\n",
    "\n",
    "- H0: $mu_1 = mu_2 = mu_3$\n",
    "- H1: At least 1 group has differences on the means\n",
    "- alpha = `0.05`\n",
    "- Degress of freedom between (k - 1): 6 countries = `5`\n",
    "- Degress of freedom within N - k: 17 - 6 = `11`"
   ]
  },
  {
   "cell_type": "code",
   "execution_count": null,
   "metadata": {},
   "outputs": [],
   "source": [
    "# Run anova report for all valid variables\n",
    "results_anova = None\n",
    "for variable in levene_df.query(\"equal_var == True\").variable.unique():\n",
    "    if(results_anova == None): \n",
    "        pvalue, df = agriculture.anova_result(dataset,variable,f\"{variable}~country\",False, False)\n",
    "        if(pvalue > 0.05):\n",
    "            df[\"variable\"] = variable\n",
    "            results_anova = df.query(\"group1 == 'IE' or group2 == 'IE' and reject == False\")\n",
    "    else:\n",
    "        pvalue, df = agriculture.anova_result(dataset,variable,f\"{variable}~country\",False, False)\n",
    "        if(pvalue > 0.05):\n",
    "            df[\"variable\"] = variable\n",
    "            results_anova.insert(df.query(\"group1 == 'IE' or group2 == 'IE' and reject == False\"),allow_duplicates=True)"
   ]
  },
  {
   "cell_type": "code",
   "execution_count": null,
   "metadata": {},
   "outputs": [],
   "source": [
    "results_anova[\"country_name\"] = results_anova.apply(lambda r: country_codes_dic.get(r.group2) if r.group1 == 'IE' else country_codes_dic.get(r.group1), axis=1)\n",
    "results_anova"
   ]
  },
  {
   "cell_type": "markdown",
   "metadata": {},
   "source": [
    "> Cereals production price and countries Belgium, Denmark, Lithuanian, Latvia and Portugal have same means as Ireland"
   ]
  },
  {
   "cell_type": "markdown",
   "metadata": {},
   "source": [
    "# Non parametrical test for those variables that do not meet Anova assumptions"
   ]
  },
  {
   "cell_type": "code",
   "execution_count": null,
   "metadata": {},
   "outputs": [],
   "source": [
    "# From the variables analised in the anova that do not meet requirements\n",
    "anova_vars = set(levene_df.query(\"equal_var == True\").variable.unique())\n",
    "all_columns = set(columns_dic.keys())\n",
    "all_columns\n",
    "kruskal_vars = all_columns - anova_vars\n",
    "\n",
    "\n",
    "print(\"Variables for selection\")\n",
    "print(\"=======================\")\n",
    "_ = [print(f\"\\t{x}\") for x in kruskal_vars]\n",
    "\n",
    "print(\"Countries for study\")\n",
    "print(\"=======================\")\n",
    "_ = [print(f\"\\t{country_codes_dic.get(x)}\") for x in levene_df.query(\"equal_var == True\").country.unique()]\n",
    "\n",
    "countries = list(levene_df.query(\"equal_var == True\").country.unique())\n",
    "countries.append('IE')\n",
    "dataset = agriculture_df.query(\"country in @countries\")\n",
    "\n",
    "results_nonp = [[\"variable\",\"kruskal_test_result\"]]\n",
    "# KRUSKAL TEST\n",
    "for variable in kruskal_vars:    \n",
    "    k = agriculture.kruskal_report(dataset,variable,f\"{variable}~country\")\n",
    "    results_nonp.append([variable,k])"
   ]
  },
  {
   "cell_type": "markdown",
   "metadata": {},
   "source": [
    "## Summary NON parametrical test"
   ]
  },
  {
   "cell_type": "code",
   "execution_count": null,
   "metadata": {},
   "outputs": [],
   "source": [
    "print(\"Non parametrical test comparison indicates similar values with Ireland and selected  \\n\" +\\\n",
    "      f\"Members states {similar_countries} on the following variables\")\n",
    "results_nonp_pd = pd.DataFrame.from_records(np.array(results_nonp)[1:,:], columns=results_nonp[0]);\n",
    "results_nonp_pd[\"kruskal_test_result\"] = results_nonp_pd.kruskal_test_result.astype(\"float\")\n",
    "results_nonp_pd.query(\"kruskal_test_result > 0.05\")"
   ]
  },
  {
   "cell_type": "markdown",
   "metadata": {},
   "source": [
    "# Employment by gender analysis\n"
   ]
  },
  {
   "cell_type": "code",
   "execution_count": null,
   "metadata": {},
   "outputs": [],
   "source": [
    "dataset[['female_employment_ratio_rural_areas_pct','male_employment_ratio_rural_areas_pct']].corr(method='pearson')"
   ]
  },
  {
   "cell_type": "code",
   "execution_count": null,
   "metadata": {},
   "outputs": [],
   "source": [
    "# Check means of the 2 groups male and female.\n",
    "dataset[['female_employment_ratio_rural_areas_pct','male_employment_ratio_rural_areas_pct']].describe()"
   ]
  },
  {
   "cell_type": "code",
   "execution_count": null,
   "metadata": {},
   "outputs": [],
   "source": [
    "stat, pvalue = stats.levene(dataset.female_employment_ratio_rural_areas_pct, dataset.male_employment_ratio_rural_areas_pct)\n",
    "print(f\"H0: There is homegeneity of variance in male and female employment ratio with levene test pvalue {pvalue}\")"
   ]
  },
  {
   "cell_type": "markdown",
   "metadata": {},
   "source": [
    "> BoxPlot employment ratio by gender "
   ]
  },
  {
   "cell_type": "code",
   "execution_count": null,
   "metadata": {},
   "outputs": [],
   "source": [
    "df_gender = dataset[['female_employment_ratio_rural_areas_pct','male_employment_ratio_rural_areas_pct']]\n",
    "df_gender.columns = [\"Female\",\"Male\"]\n",
    "df_melt = df_gender.melt()\n",
    "\n",
    "# generate a boxplot to see the data distribution by treatments. Using boxplot, we can \n",
    "# easily detect the differences between different treatments\n",
    "\n",
    "ax = sns.boxplot(x='variable', y='value', data=df_melt, color='#99c2a2')\n",
    "ax = sns.swarmplot(x=\"variable\", y=\"value\", data=df_melt, color='#7d0013')\n",
    "plt.show()"
   ]
  },
  {
   "cell_type": "code",
   "execution_count": null,
   "metadata": {},
   "outputs": [],
   "source": [
    "df_gender = dataset[['country','female_employment_ratio_rural_areas_pct','male_employment_ratio_rural_areas_pct']]\n",
    "df_gender.columns = ['country',\"Female\",\"Male\"]\n",
    "pvalue, df_gender_anova_group_result = agriculture.anova_result(df_gender,\"Female\",f\"Male~Female+country\", True)\n",
    "print(pvalue)"
   ]
  },
  {
   "cell_type": "markdown",
   "metadata": {},
   "source": [
    "The employement ratio for Female population in rural areas is not the same as male on selected countries. Within groups of different countries"
   ]
  },
  {
   "cell_type": "code",
   "execution_count": null,
   "metadata": {},
   "outputs": [],
   "source": [
    "df_gender_anova_group_result.query(\"reject == False and (group1 == 'IE' or group2 == 'IE')\")"
   ]
  },
  {
   "cell_type": "markdown",
   "metadata": {},
   "source": [
    "> Portugal and Ireland have similar employment for male and femal groups"
   ]
  }
 ],
 "metadata": {
  "interpreter": {
   "hash": "8c05728b5209f9bac5f2c8d5560e4b0392a10986a6d1a786d0ae84adef5e2173"
  },
  "kernelspec": {
   "display_name": "ca2_env",
   "language": "python",
   "name": "ca2_env"
  },
  "language_info": {
   "codemirror_mode": {
    "name": "ipython",
    "version": 3
   },
   "file_extension": ".py",
   "mimetype": "text/x-python",
   "name": "python",
   "nbconvert_exporter": "python",
   "pygments_lexer": "ipython3",
   "version": "3.9.12"
  }
 },
 "nbformat": 4,
 "nbformat_minor": 2
}
