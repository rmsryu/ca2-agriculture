{
 "cells": [
  {
   "cell_type": "markdown",
   "metadata": {},
   "source": [
    "# Prerequisites\n",
    "\n",
    "- Python 3.10.4\n",
    "\n",
    "> Warning: Installation from conda environment may take few minutes\n",
    "\n",
    "Configuring conda environment\n",
    "```cmd\n",
    "conda create -n ca2_env\n",
    "conda activate ca2_env\n",
    "conda install -c anaconda openpyxl\n",
    "conda install -c conda-forge dash\n",
    "```\n",
    "\n",
    "Installing jupyter notebook on ca2_env environment\n",
    "```cmd\n",
    "conda install jupyter notebook\n",
    "python -m ipykernel install --name ca2_env\n",
    "```\n",
    "\n",
    "Run jupiter \n",
    "```cmd\n",
    "jupyter notebook\n",
    "```"
   ]
  },
  {
   "cell_type": "markdown",
   "metadata": {},
   "source": [
    "How crop and cereals contributes to the agricultural value added indices in Ireland and Europe."
   ]
  },
  {
   "cell_type": "code",
   "execution_count": null,
   "metadata": {},
   "outputs": [],
   "source": [
    "from preamble import agriculture\n",
    "import pandas as pd\n",
    "import numpy as np\n",
    "\n",
    "\n",
    "\n",
    "crop_datasets = {\n",
    "    \"fao-crop-residues\"                     : \"../data/fao/EU-Crop-Residues.csv\",\n",
    "    \"fao-crop-production-idx\"               : \"../data/fao/EU-Crops-Production-Indices.csv\",\n",
    "    \"fao-employment-indicators-rural\"       : \"../data/fao/EU-Employment-Indicators-Rural-All.csv\",\n",
    "    \"fao-employment-indicators-agri-hours\"  : \"../data/fao/EU-Employment-Indicators-Agricultural-Working-Hours.csv\",\n",
    "    \"fao-cereals-producer-prices\"           : \"../data/fao/EU-Producer-Prices-Cereals.csv\",\n",
    "    \"fao-land-use\"                          : \"../data/fao/EU-Land-Use.csv\",\n",
    "    \"fao-total-energy-use\"                  : \"../data/fao/EU-Total-Energy-Use.csv\",\n",
    "    \"fao-cereals-export-import-idx\"             : \"../data/fao/EU-Trade-Indices-Cereals-Export-Import.csv\",\n",
    "    #\"fao-agriculture-value-added\"           : \"../data/fao/EU-Value-Added-Agriculture.csv\",\n",
    "    \"fadn-subsides\"                         : \"../data/fadn/fadn-subsides-year-ms-crops.xlsx\",\n",
    "    \"fadn-summary\"                          : \"../data/fadn/fadn-custom-summary.xlsx\",\n",
    "    \"fadn-rented-land\"                      : \"../data/fadn/fadn-rented-land.xlsx\",\n",
    "    \"eurostats-gross-value-added\"           : \"../data/eurostat/gross_value_added/nama_10_a10_1_Data.csv\"\n",
    "}\n",
    "\n",
    "eu_country_codes = pd.read_csv(\"../data/eu_country_codes.csv\");\n"
   ]
  },
  {
   "cell_type": "markdown",
   "metadata": {},
   "source": [
    "> \"HR\" -- Coratia has been removed as it only joins EU since 2013 and it's required minimum 10 years of data for analysis"
   ]
  },
  {
   "cell_type": "markdown",
   "metadata": {},
   "source": [
    "> \"LU\" -- Luxembourg is exclued from the analysis as it forms very small percentage of the Duch's economy, thus most agricultural indicators and surveys from FAO are reported with low or no values"
   ]
  },
  {
   "cell_type": "markdown",
   "metadata": {},
   "source": [
    "> \"MT\" -- Malta, no data reported on fao datasets."
   ]
  },
  {
   "cell_type": "code",
   "execution_count": null,
   "metadata": {},
   "outputs": [],
   "source": [
    "def init_df():\n",
    "    # \"HR\" -- Coratia\n",
    "    # \"LU\" -- Luxembourg\n",
    "    # \"MT\" -- Malta\n",
    "    eu = [\"BE\",\"BG\",\"CY\",\"CZ\",\"DK\",\"DE\",\"EL\",\"ES\",\"EE\",\"FR\",\"HU\",\"IE\",\"IT\",\"LT\",\"LV\",\"NL\",\"AT\",\"PL\",\"PT\",\"RO\",\"FI\",\"SE\",\"SK\",\"SI\"]\n",
    "    years = np.arange(start=2000,stop=2022,step=1)\n",
    "    # https://www.adamsmith.haus/python/answers/how-to-get-all-element-combinations-of-two-numpy-arrays-in-python\n",
    "    data = np.array(np.meshgrid(eu, years)).T.reshape(-1, 2)\n",
    "    df = pd.DataFrame(data, columns=[\"country\",\"year\"])\n",
    "    df[\"year\"] =df.year.astype(int)\n",
    "    return df\n",
    "\n",
    "def get_fao_dataset(dataset_name, query, value_col_name, aggfunc=\"mean\", usecols=[\"Area Code (ISO2)\",\"Year\",\"Element Code\",\"Item\",\"Value\"]):\n",
    "    df = pd.read_csv(crop_datasets[dataset_name], usecols=usecols);    \n",
    "    agg_df = df.query(query).groupby([\"Area Code (ISO2)\",\"Year\"])[\"Value\"].agg(aggfunc).reset_index()\n",
    "    agg_df.columns = [\"country\",\"year\",value_col_name]\n",
    "    return agg_df\n",
    "\n",
    "def get_fand_dataset(dataset_name, target_column, column_name):\n",
    "    # Read data\n",
    "    df = pd.read_excel(crop_datasets[dataset_name]);\n",
    "    df = df.query(\"`8 Types of Farming` == '(1) Fieldcrops'\")\n",
    "    df = df[[\"ISO2\", \"Year\", target_column]]\n",
    "    df = df.rename(columns={\"ISO2\":\"country\", \"Year\":\"year\", target_column : column_name})\n",
    "    df = df.replace('-',np.NaN)\n",
    "    \n",
    "    # Re order columns\n",
    "    columns = ['country', 'year', column_name]\n",
    "    df.columns = columns\n",
    "    df = df[columns]\n",
    "\n",
    "    # Convert country code to iso-alph2\n",
    "    df[\"country\"] = df.country.apply(lambda x: eu_country_codes.query(f\"`EU Code` == '{x}'\")[\"ISO2\"].values[0])\n",
    "    return df\n",
    "\n",
    "def get_eurostat_gross_value_added(indicator=\"Value added, gross\", column = \"gross_value_added\"):\n",
    "    # Read data\n",
    "    # indicator: Value added, gross | Compensation of employees | Wages and salaries | Employers' social contributions\n",
    "    df = pd.read_csv(crop_datasets[\"eurostats-gross-value-added\"]);\n",
    "    nace_r2 = \"Agriculture, forestry and fishing\"\n",
    "    df = df.query(f\"NACE_R2 == '{nace_r2}' and NA_ITEM == '{indicator}'\")[[\"ISO2\", \"TIME\", \"Value\"]]\n",
    "    df.columns = [\"country\",\"year\",column]\n",
    "    return df\n",
    "    \n",
    "\n",
    "agriculture_df = init_df()"
   ]
  },
  {
   "cell_type": "markdown",
   "metadata": {},
   "source": [
    "## FAO Datasets"
   ]
  },
  {
   "cell_type": "code",
   "execution_count": null,
   "metadata": {},
   "outputs": [],
   "source": [
    "# crop_mean_residues_kg as of the average of the different crop categories in Kg of nutrients.\n",
    "agriculture_df = agriculture_df.merge(get_fao_dataset(\"fao-crop-residues\", \"`Element Code` == 72392\", \"crop_mean_residues_kg\"), how=\"left\")\n",
    "\n",
    "# crop_production_idx\n",
    "agriculture_df = agriculture_df.merge(get_fao_dataset(\"fao-crop-production-idx\", \"`Element Code` == 432\", \"crop_production_idx\"), how=\"left\")\n",
    "\n",
    "# cereals_produce_price_usd_tonne\n",
    "agriculture_df = agriculture_df.merge(get_fao_dataset(\"fao-cereals-producer-prices\", \"`Element Code` == 5532\", \"cereals_produce_price_usd_tonne\"), how=\"left\")\n",
    "\n",
    "# employment_ratio_rural_areas_pct\n",
    "agriculture_df = agriculture_df.merge(get_fao_dataset(dataset_name=\"fao-employment-indicators-rural\",\n",
    "                                                        value_col_name=\"employment_ratio_rural_areas_pct\",\n",
    "                                                        usecols=[\"Area Code (ISO2)\",\"Year\",\"Indicator Code\",\"Sex\", \"Value\"],\n",
    "                                                        query=\"`Indicator Code` == 21069 & Sex == 'Total'\"), how=\"left\")\n",
    "# female_employment_ratio_rural_areas_pct\n",
    "agriculture_df = agriculture_df.merge(get_fao_dataset(dataset_name=\"fao-employment-indicators-rural\",\n",
    "                                                        value_col_name=\"female_employment_ratio_rural_areas_pct\",\n",
    "                                                        usecols=[\"Area Code (ISO2)\",\"Year\",\"Indicator Code\",\"Sex\", \"Value\"],\n",
    "                                                        query=\"`Indicator Code` == 21069 & Sex == 'Female'\"), how=\"left\")\n",
    "# male_employment_ratio_rural_areas_pct\n",
    "agriculture_df = agriculture_df.merge(get_fao_dataset(dataset_name=\"fao-employment-indicators-rural\",\n",
    "                                                        value_col_name=\"male_employment_ratio_rural_areas_pct\",\n",
    "                                                        usecols=[\"Area Code (ISO2)\",\"Year\",\"Indicator Code\",\"Sex\", \"Value\"],\n",
    "                                                        query=\"`Indicator Code` == 21069 & Sex == 'Male'\"), how=\"left\")\n",
    "# mean_weekly_working_hours\n",
    "agriculture_df = agriculture_df.merge(get_fao_dataset(dataset_name=\"fao-employment-indicators-agri-hours\",\n",
    "                                                        value_col_name=\"mean_weekly_working_hours\",\n",
    "                                                        usecols=[\"Area Code (ISO2)\",\"Year\",\"Indicator Code\",\"Sex\", \"Value\"],\n",
    "                                                        query=\"`Indicator Code` == 21150 & Sex == 'Total'\"), how=\"left\")\n",
    "\n",
    "# female_mean_weekly_working_hours\n",
    "agriculture_df = agriculture_df.merge(get_fao_dataset(dataset_name=\"fao-employment-indicators-agri-hours\",\n",
    "                                                        value_col_name=\"female_mean_weekly_working_hours\",\n",
    "                                                        usecols=[\"Area Code (ISO2)\",\"Year\",\"Indicator Code\",\"Sex\", \"Value\"],\n",
    "                                                        query=\"`Indicator Code` == 21150 & Sex == 'Female'\"), how=\"left\")\n",
    "\n",
    "# male_mean_weekly_working_hours\n",
    "agriculture_df = agriculture_df.merge(get_fao_dataset(dataset_name=\"fao-employment-indicators-agri-hours\",\n",
    "                                                        value_col_name=\"male_mean_weekly_working_hours\",\n",
    "                                                        usecols=[\"Area Code (ISO2)\",\"Year\",\"Indicator Code\",\"Sex\", \"Value\"],\n",
    "                                                        query=\"`Indicator Code` == 21150 & Sex == 'Male'\"), how=\"left\")\n",
    "\n",
    "# crop_land_use_1000ha\n",
    "agriculture_df = agriculture_df.merge(get_fao_dataset(\"fao-land-use\", \"`Element Code` == 5110\", \"crop_land_use_1000ha\"), how=\"left\")\n",
    "\n",
    "# agri_energy_use_tj\n",
    "agriculture_df = agriculture_df.merge(get_fao_dataset(\"fao-total-energy-use\", \"`Element Code` == 72184\", \"agri_energy_use_tj\"), how=\"left\")\n",
    "\n",
    "# avg_import_idx\n",
    "agriculture_df = agriculture_df.merge(get_fao_dataset(\"fao-cereals-export-import-idx\", \"`Element Code` == 465\", \"avg_import_idx\"), how=\"left\")\n",
    "\n",
    "# avg_export_idx\n",
    "agriculture_df = agriculture_df.merge(get_fao_dataset(\"fao-cereals-export-import-idx\", \"`Element Code` == 495\", \"avg_export_idx\"), how=\"left\")\n",
    "\n",
    "# value_added_agriculture (Replaced with eurostat data)\n",
    "# agriculture_df = agriculture_df.merge(get_fao_dataset(\"fao-agriculture-value-added\", \"`Element Code` == 6110\", \"value_added_agriculture\"), how=\"left\")\n"
   ]
  },
  {
   "cell_type": "markdown",
   "metadata": {},
   "source": [
    "### FADN Dataset"
   ]
  },
  {
   "cell_type": "code",
   "execution_count": null,
   "metadata": {},
   "outputs": [],
   "source": [
    "agriculture_df = agriculture_df.merge(get_fand_dataset(\"fadn-subsides\", \"(SE610) Total subsidies on crops (€)\", \"total_subsides_on_field_crops\" ), how=\"left\")\n",
    "agriculture_df = agriculture_df.merge(get_fand_dataset(\"fadn-rented-land\", \"(SE030) Rented UAA (ha)\",           \"rented_land_ha\"                ), how=\"left\")\n",
    "agriculture_df = agriculture_df.merge(get_fand_dataset(\"fadn-rented-land\", \"(SE375) Rent paid (€)\",             \"rent_paid\"                     ), how=\"left\")\n",
    "agriculture_df = agriculture_df.merge(get_fand_dataset(\"fadn-rented-land\", \"(SE025) Total Utilised Agricultural Area (ha)\", \"total_uaa_ha\"      ), how=\"left\")\n",
    "if \"pct_rented_land_of_uaa\" not in agriculture_df.columns:\n",
    "    agriculture_df[\"pct_rented_land_of_uaa\"] = agriculture_df.apply(lambda x: ((x[\"rented_land_ha\"] / x[\"total_uaa_ha\"] ) * 100) if x[\"total_uaa_ha\"] != None else np.nan, axis=1)"
   ]
  },
  {
   "cell_type": "markdown",
   "metadata": {},
   "source": [
    "## Eurostat"
   ]
  },
  {
   "cell_type": "code",
   "execution_count": null,
   "metadata": {},
   "outputs": [],
   "source": [
    "# current prices, million euro\n",
    "agriculture_df = agriculture_df.merge(get_eurostat_gross_value_added(indicator=\"Value added, gross\", column = \"gross_value_added\"), how=\"left\")\n",
    "# current prices, million euro\n",
    "agriculture_df = agriculture_df.merge(get_eurostat_gross_value_added(indicator=\"Compensation of employees\", column = \"compensation_of_employees\"), how=\"left\")\n",
    "# current prices, million euro\n",
    "agriculture_df = agriculture_df.merge(get_eurostat_gross_value_added(indicator=\"Wages and salaries\", column = \"wages_and_salaries\"), how=\"left\")"
   ]
  },
  {
   "cell_type": "code",
   "execution_count": null,
   "metadata": {},
   "outputs": [],
   "source": [
    "# fadn data available only from 2003 \n",
    "agriculture_df = agriculture_df.query(\"year > 2003 & year <= 2020\")\n",
    "\n",
    "# set index\n",
    "agriculture_df = agriculture_df.set_index([\"country\",\"year\"])\n",
    "\n",
    "# drop all rows wit no values\n",
    "agriculture_df = agriculture_df.drop(agriculture_df[agriculture_df.isna().all(axis=1) == True].index)"
   ]
  },
  {
   "cell_type": "code",
   "execution_count": null,
   "metadata": {},
   "outputs": [],
   "source": [
    "agriculture_df.shape"
   ]
  },
  {
   "cell_type": "code",
   "execution_count": null,
   "metadata": {},
   "outputs": [],
   "source": [
    "agriculture_df.describe()"
   ]
  },
  {
   "cell_type": "code",
   "execution_count": null,
   "metadata": {},
   "outputs": [],
   "source": [
    "# Round decimal for Crop residues kg\n",
    "agriculture_df[\"crop_mean_residues_kg\"] = agriculture_df.crop_mean_residues_kg.round(2)"
   ]
  },
  {
   "cell_type": "markdown",
   "metadata": {},
   "source": [
    "## Missing At Random MAR: \n",
    "\n",
    "The missing value depends on other variables, (year and country for each column in the DS)\n",
    "\n",
    "- ‘A Review of Hot Deck Imputation for Survey Non-response’ (2011). Available at: https://search.ebscohost.com/login.aspx?direct=true&db=edsoai&AN=edsoai.ocn894435509&site=eds-live (Accessed: 14 May 2022).\n",
    "  \n",
    "- Mohammad H. Nadimi-Shahraki et al. (2021) ‘A Hybrid Imputation Method for Multi-Pattern Missing Data: A Case Study on Type II Diabetes Diagnosis’, Electronics, 10(3167), p. 3167. doi: 10.3390/electronics10243167.\n",
    "\n",
    "- Ma, X. and Zhong, Q. (2016) ‘Missing value imputation method for disaster decision-making using K nearest neighbor’, Journal of Applied Statistics, 43(4), pp. 767–781. doi: 10.1080/02664763.2015.1077377.\n",
    ">   The main reasons that we choose KNNI method to estimate missing data are: \n",
    ">   1. K nearest neighbor can deal with heterogeneous (i.e. mixed-attributes) data; \n",
    ">   2. K nearest neighbor is little affected by the missingness mechanism; and\n",
    ">   3. K nearest neighbor can easily treat instances with multiple missing values (the occurrence of multiple missing values are more common in the process of decision-making)"
   ]
  },
  {
   "cell_type": "code",
   "execution_count": null,
   "metadata": {},
   "outputs": [],
   "source": [
    "agriculture_df.isna().sum()"
   ]
  },
  {
   "cell_type": "markdown",
   "metadata": {},
   "source": [
    "## Imputation options.\n",
    "\n",
    "From simplest to comlex:\n",
    "- mean:         Replace with mean\n",
    "- linear:       Replace with predcite value from linear regrestion (pre conditions required)\n",
    "- knn:          Nearest-Neighbour Imputation Methodology"
   ]
  },
  {
   "cell_type": "markdown",
   "metadata": {},
   "source": [
    "### Linear regression for infering missing values on year 2020\n",
    "\n",
    "> Weiss, N. and Weiss, C., 2017. Introductory statistics. 10th ed. Pearson Education Limited 2017, p. 667\n",
    "\n",
    "1. Linear regression:\n",
    "\n",
    "$\\hat{Y} = \\hat{\\beta}_{0} + \\sum \\limits _{j=1} ^{p} X_{j}\\hat{\\beta}_{j} $\n",
    "\n",
    "\n",
    "#### Assumptions:\n",
    "\n",
    "1. Linearity: It states that the dependent variable Y should be linearly related to independent variable X.\n",
    "\n",
    "\n",
    "Karl Person, Linear Correlation Coefficient\n",
    "For a set of n data points, the linear correlation coefficient, r, is defined by\n",
    "\n",
    "$ r = \\frac{{}\\sum_{i=1}^{n} (x_i - \\overline{x})(y_i - \\overline{y})}\n",
    "{S_xS_y} $\n",
    "\n",
    ",\n",
    "where sx and sy denote the sample standard deviations of the x-values and\n",
    "y-values, respectively.\n",
    "\n",
    "In python corrcoef() (https://pandas.pydata.org/docs/reference/api/pandas.DataFrame.corr.html)\n"
   ]
  },
  {
   "cell_type": "markdown",
   "metadata": {},
   "source": [
    "## Nearest-Neighbour Imputation Methodology\n",
    "\n",
    "Precoditions. We will confirm cluster tendency using hopkins algorith.\n",
    "\n",
    "- J. G. Skellam and Brian Hopkins (2017) ‘A New Method for determining the Type of Distribution of Plant Individuals’, Annals of Botany, 18, pp. 213–227. Available at: https://search.ebscohost.com/login.aspx?direct=true&db=edsair&AN=edsair.doi...........6ef6ec0c85f3b83af04881659901aa52&site=eds-live (Accessed: 14 May 2022).\n",
    "\n",
    "It acts as a statistical hypothesis test where the null hypothesis is that the data is generated by a Poisson point process and are thus uniformly randomly distributed\n",
    "\n",
    "> - H0: Data is generated by a Poisson point process.\n",
    "> - H1: Data is NOT generated by a Poisson point process.\n",
    "\n",
    "A value close to 0 tends to indicate the data is highly clustered, random data will tend to result in values around 0.5, and uniformly distributed data will tend to result in values close to 1.\n",
    "\n",
    "- If the value is between {0.07, ...,0.99}, the data is regularly spaced.\n",
    "\n",
    "- If the value is around 0.5, it is random.\n",
    "\n",
    "- If the value is between {0.1, ..., 0.33}, it has a high tendency to cluster.\n"
   ]
  },
  {
   "cell_type": "code",
   "execution_count": null,
   "metadata": {},
   "outputs": [],
   "source": [
    "data = pd.DataFrame()"
   ]
  },
  {
   "cell_type": "code",
   "execution_count": null,
   "metadata": {},
   "outputs": [],
   "source": [
    "agriculture_df.reset_index(inplace=True)"
   ]
  },
  {
   "cell_type": "code",
   "execution_count": null,
   "metadata": {},
   "outputs": [],
   "source": [
    "impute_values_df = agriculture_df.melt(id_vars=[\"country\",\"year\"]); \n",
    "impute_values_df[\"impute_estimator\"] = \"mean\"\n",
    "impute_values_df[\"impute_estimator_notes\"] = \"mean\"\n",
    "impute_values_df[\"impute_value\"] = np.nan\n",
    "impute_values_df.head(5)"
   ]
  },
  {
   "cell_type": "code",
   "execution_count": null,
   "metadata": {},
   "outputs": [],
   "source": [
    "import warnings\n",
    "warnings.filterwarnings('ignore')"
   ]
  },
  {
   "cell_type": "code",
   "execution_count": null,
   "metadata": {},
   "outputs": [],
   "source": [
    "import pandas as pd\n",
    "import matplotlib.pyplot as plt\n",
    "from scipy import stats\n",
    "import seaborn as sns\n",
    "from sklearn.neighbors import KNeighborsRegressor\n",
    "\n",
    "from IPython.display import display, Markdown\n",
    "from scipy.stats import levene\n",
    "\n",
    "for country in impute_values_df.country.unique():\n",
    "    for column in agriculture_df.columns:\n",
    "        # Validations\n",
    "        if column in [\"year\",\"country\"]:\n",
    "            continue;\n",
    "        # Ignore if there is no null values\n",
    "        no_null_values = impute_values_df.query(f\"country == '{country}' and variable == '{column}' and not value.isnull()\").shape[0]\n",
    "        all_values  = impute_values_df.query(f\"country == '{country}' and variable == '{column}'\").shape[0]\n",
    "        if(no_null_values == all_values):\n",
    "            continue;\n",
    "\n",
    "        # get values for calculate estimators\n",
    "        #print(f\"Processing {country}, for variable {column}\")\n",
    "        qnotnull = f\"country == '{country}' and variable == '{column}' and not value.isnull()\"\n",
    "        query = f\"country == '{country}' and variable == '{column}' and value.isnull()\"\n",
    "        dataset = impute_values_df.query(qnotnull)[[\"year\",\"value\"]]\n",
    "        \n",
    "        # convert to float64\n",
    "        dataset.value = dataset.value.astype(\"float64\")\n",
    "\n",
    "        # Linear correlation\n",
    "        coef = dataset.corr().iloc[1]['year']\n",
    "        has_linear_corr = abs(coef) > 0.7\n",
    "        if has_linear_corr:\n",
    "            impute_values_df.loc[impute_values_df.eval(query),\"impute_estimator\"] = \"linear\"\n",
    "            impute_values_df.loc[impute_values_df.eval(query),\"impute_estimator_notes\"] = f\"Person Correlation Coef: {coef}\"\n",
    "            \n",
    "            # Linear Regresion\n",
    "            dataset = impute_values_df.query(qnotnull)[[\"year\",\"value\"]]\n",
    "            dataset.value = dataset.value.astype(\"float64\")\n",
    "            x = dataset.year\n",
    "            y = dataset.value\n",
    "            m = stats.linregress(x, y)\n",
    "            \n",
    "            null_dataset = impute_values_df.query(query)\n",
    "            def linear_regresion(slope, value, intercept):\n",
    "                pred = slope * value + intercept\n",
    "                return pred\n",
    "            \n",
    "            response = null_dataset[\"year\"].apply(lambda x: linear_regresion(m.slope, x, m.intercept))\n",
    "            impute_values_df.loc[response.index,\"impute_value\"] = response\n",
    "            \n",
    "        else:\n",
    "            # kMeans. Check if hopkins \n",
    "             # Check cluster tendency correlation\n",
    "            coef = agriculture.hopkins(dataset, 10)\n",
    "            has_cluster_tendency = coef < 0.4\n",
    "            if has_cluster_tendency:\n",
    "                #print(f\"has cluster tendency\")\n",
    "                impute_values_df.loc[impute_values_df.eval(query),\"impute_estimator\"] = \"kNN\"\n",
    "                impute_values_df.loc[impute_values_df.eval(query),\"impute_estimator_notes\"] = f\"hopkins: {coef}\"\n",
    "\n",
    "                # kNN \n",
    "                dataset = impute_values_df.query(qnotnull)[[\"year\",\"value\"]]\n",
    "                dataset.value = dataset.value.astype(\"float64\")\n",
    "                x = dataset.iloc[:,[0]]\n",
    "                y = dataset.iloc[:,[1]]\n",
    "\n",
    "                neigh = KNeighborsRegressor(n_neighbors=2)\n",
    "                neigh.fit(x, y)\n",
    "            \n",
    "                null_dataset = impute_values_df.query(query)\n",
    "                response = null_dataset[\"year\"].apply(lambda x: float(neigh.predict([[x]])[0]))\n",
    "                impute_values_df.loc[response.index,\"impute_value\"] = response\n",
    "\n",
    "                #display(Markdown(f\"<b>{country}-{column}</b> is highly clustered\"))\n",
    "            #Normality plot.\n",
    "            # stats.probplot(dataset.crop_mean_residues_kg, plot=plt)\n",
    "            # plt.title = country\n",
    "            # plt.figure()\n",
    "\n",
    "    "
   ]
  },
  {
   "cell_type": "code",
   "execution_count": null,
   "metadata": {},
   "outputs": [],
   "source": [
    "impute_values_df.query(\"impute_estimator == 'kNN'\").head(5)"
   ]
  },
  {
   "cell_type": "markdown",
   "metadata": {},
   "source": [
    "## Impute results"
   ]
  },
  {
   "cell_type": "code",
   "execution_count": null,
   "metadata": {},
   "outputs": [],
   "source": [
    "# set index\n",
    "if(type(agriculture_df.index) is not pd.MultiIndex):\n",
    "    agriculture_df.set_index(keys=[\"country\",\"year\"],inplace=True)\n",
    "\n",
    "# sort index\n",
    "agriculture_df.sort_index(inplace=True)"
   ]
  },
  {
   "cell_type": "code",
   "execution_count": null,
   "metadata": {},
   "outputs": [],
   "source": [
    "# un melt imputed values\n",
    "# fix index name issue by renaming to none see https://stackoverflow.com/a/54907035\n",
    "agriculture_impute_values = impute_values_df[[\"country\",\"year\",\"variable\",\"impute_value\"]].pivot(index=[\"country\",\"year\"], columns=\"variable\", values=\"impute_value\").rename_axis(None, axis=1)\n",
    "\n",
    "# sort index\n",
    "agriculture_impute_values.sort_index(inplace=True)"
   ]
  },
  {
   "cell_type": "code",
   "execution_count": null,
   "metadata": {},
   "outputs": [],
   "source": [
    "# fill na with imputed values\n",
    "agriculture_with_impute_values = agriculture_df.fillna(agriculture_impute_values)"
   ]
  },
  {
   "cell_type": "code",
   "execution_count": null,
   "metadata": {},
   "outputs": [],
   "source": [
    "agriculture_with_impute_values.isna().sum()"
   ]
  },
  {
   "cell_type": "markdown",
   "metadata": {},
   "source": [
    "### Visualize impute values\n",
    "\n",
    "https://plotly.com/python/animations/"
   ]
  },
  {
   "cell_type": "code",
   "execution_count": null,
   "metadata": {},
   "outputs": [],
   "source": [
    "from dash import Dash, dcc, html, Input, Output\n",
    "import plotly.express as px\n",
    "\n",
    "\n",
    "df = agriculture_with_impute_values.reset_index()\n",
    "selection = agriculture_with_impute_values.columns[0]\n",
    "rg_y = [0,agriculture_with_impute_values[selection].max()]\n",
    "px.bar(\n",
    "            df, x=\"country\", y=selection, color=\"country\",\n",
    "            animation_frame=\"year\", animation_group=\"country\", \n",
    "            range_y=rg_y)\n"
   ]
  },
  {
   "cell_type": "code",
   "execution_count": null,
   "metadata": {},
   "outputs": [],
   "source": [
    "variable = agriculture_with_impute_values.columns[0]\n",
    "country = \"IE\"\n",
    "fig = px.line(df.query(f\"country == '{country}'\"), x=\"year\", y=variable, title=variable)\n",
    "fig.show()"
   ]
  },
  {
   "cell_type": "code",
   "execution_count": null,
   "metadata": {},
   "outputs": [],
   "source": [
    "variable = agriculture_with_impute_values.columns[0]\n",
    "country = \"-\"\n",
    "fig = plt.Figure;\n",
    "if(country == \"-\"):\n",
    "    rg_y = [0,agriculture_with_impute_values[variable].max()]\n",
    "    fig = px.bar(\n",
    "                df, x=\"country\", y=variable, color=\"country\",\n",
    "                animation_frame=\"year\", animation_group=\"country\", \n",
    "                range_y=rg_y)\n",
    "else:\n",
    "    fig = px.line(df.query(f\"country == '{country}'\"), x=\"year\", y=variable, title=variable)\n",
    "\n",
    "fig.show()"
   ]
  },
  {
   "cell_type": "code",
   "execution_count": null,
   "metadata": {},
   "outputs": [],
   "source": [
    "# Add default value to list of countries\n",
    "eu_country_codes.loc[len(eu_country_codes.index)] =[\"-\",\"None\",\"-\"]"
   ]
  },
  {
   "cell_type": "code",
   "execution_count": null,
   "metadata": {},
   "outputs": [],
   "source": [
    "dropdown_country = eu_country_codes[[\"Member State\",\"ISO2\"]]\n",
    "dropdown_country.columns = [\"label\",\"value\"]\n",
    "dropdown_country"
   ]
  },
  {
   "cell_type": "code",
   "execution_count": null,
   "metadata": {},
   "outputs": [],
   "source": [
    "dropdown_country.values"
   ]
  },
  {
   "cell_type": "code",
   "execution_count": null,
   "metadata": {},
   "outputs": [],
   "source": [
    "for row in dropdown_country.values:\n",
    "    print(row)"
   ]
  },
  {
   "cell_type": "code",
   "execution_count": null,
   "metadata": {},
   "outputs": [],
   "source": [
    "[{'label': row[0], 'value': row[1]} for row in dropdown_country.values]"
   ]
  },
  {
   "cell_type": "code",
   "execution_count": null,
   "metadata": {},
   "outputs": [],
   "source": [
    "from dash import Dash, dcc, html, Input, Output\n",
    "import plotly.express as px\n",
    "\n",
    "app = Dash(__name__)\n",
    "\n",
    "default_sel = agriculture_with_impute_values.columns[0]\n",
    "df = agriculture_with_impute_values.reset_index()\n",
    "\n",
    "app.layout = html.Div([\n",
    "    html.H4('Animated Agriculture Data over years'),\n",
    "    html.P(\"Select an animation:\"),\n",
    "    dcc.Dropdown(\n",
    "        id='dd_variable',\n",
    "        options=agriculture_with_impute_values.columns,\n",
    "        value=default_sel,\n",
    "    ),\n",
    "    dcc.Dropdown(\n",
    "        id='dd_country',\n",
    "        options=[{'label': row[0], 'value': row[1]} for row in dropdown_country.values], \n",
    "        value=\"-\",\n",
    "    ),\n",
    "    dcc.Loading(dcc.Graph(id=\"graph\"), type=\"cube\")\n",
    "])\n",
    "\n",
    "\n",
    "@app.callback(\n",
    "    Output(\"graph\", \"figure\"), \n",
    "    Input(\"dd_variable\", \"value\"),\n",
    "    Input(\"dd_country\", \"value\"))\n",
    "def display_animated_graph(variable,country):\n",
    "    \n",
    "    ## @TODO\n",
    "    # animations = {\n",
    "    #     'GDP - Scatter': px.scatter(\n",
    "    #         df, x=\"country\", y=\"lifeExp\", animation_frame=\"year\", \n",
    "    #         animation_group=\"country\", size=\"pop\", color=\"continent\", \n",
    "    #         hover_name=\"country\", log_x=True, size_max=55, \n",
    "    #         range_x=[100,100000], range_y=[25,90]),\n",
    "    #     'Population - Bar': px.bar(\n",
    "    #         df, x=\"continent\", y=\"pop\", color=\"continent\", \n",
    "    #         animation_frame=\"year\", animation_group=\"country\", \n",
    "    #         range_y=[0,4000000000]),\n",
    "    # }\n",
    "    fig = plt.Figure;\n",
    "    if(country == \"-\"):\n",
    "        rg_y = [0,agriculture_with_impute_values[variable].max()]\n",
    "        fig = px.bar(\n",
    "                    df, x=\"country\", y=variable, color=\"country\",\n",
    "                    animation_frame=\"year\", animation_group=\"country\", \n",
    "                    range_y=rg_y)\n",
    "    else:\n",
    "        fig = px.line(df.query(f\"country == '{country}'\"), x=\"year\", y=variable, title=variable)\n",
    "\n",
    "    return fig\n",
    "\n",
    "\n",
    "app.run_server(debug=False)"
   ]
  }
 ],
 "metadata": {
  "interpreter": {
   "hash": "8c05728b5209f9bac5f2c8d5560e4b0392a10986a6d1a786d0ae84adef5e2173"
  },
  "kernelspec": {
   "display_name": "ca2_env",
   "language": "python",
   "name": "ca2_env"
  },
  "language_info": {
   "codemirror_mode": {
    "name": "ipython",
    "version": 3
   },
   "file_extension": ".py",
   "mimetype": "text/x-python",
   "name": "python",
   "nbconvert_exporter": "python",
   "pygments_lexer": "ipython3",
   "version": "3.9.12"
  }
 },
 "nbformat": 4,
 "nbformat_minor": 2
}
