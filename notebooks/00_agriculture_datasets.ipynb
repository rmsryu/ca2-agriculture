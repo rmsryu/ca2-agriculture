{
 "cells": [
  {
   "cell_type": "markdown",
   "metadata": {},
   "source": [
    "# Prerequisites\n",
    "\n",
    "- Python 3.10.4\n",
    "\n",
    "> Warning: Installation from conda environment may take few minutes\n",
    "\n",
    "Configuring conda environment\n",
    "```cmd\n",
    "conda create -n ca2_env\n",
    "conda activate ca2_env\n",
    "conda install -c anaconda openpyxl\n",
    "```\n",
    "\n",
    "Installing jupyter notebook on ca2_env environment\n",
    "```cmd\n",
    "conda install jupyter notebook\n",
    "python -m ipykernel install --name ca2_env\n",
    "```\n",
    "\n",
    "Run jupiter \n",
    "```cmd\n",
    "jupyter notebook\n",
    "```"
   ]
  },
  {
   "cell_type": "markdown",
   "metadata": {},
   "source": [
    "How crop and cereals contributes to the agricultural value added indices in Ireland and Europe."
   ]
  },
  {
   "cell_type": "code",
   "execution_count": 52,
   "metadata": {},
   "outputs": [],
   "source": [
    "import pandas as pd\n",
    "import numpy as np\n",
    "\n",
    "crop_datasets = {\n",
    "    \"fao-crop-residues\"                     : \"../data/fao/EU-Crop-Residues.csv\",\n",
    "    \"fao-crop-production-idx\"           : \"../data/fao/EU-Crops-Production-Indices.csv\",\n",
    "    \"fao-employment-indicators-rural\"       : \"../data/fao/EU-Employment-Indicators-Rural-All.csv\",\n",
    "    \"fao-employment-indicators-agri-hours\"  : \"../data/fao/EU-Employment-Indicators-Agricultural-Working-Hours.csv\",\n",
    "    \"fao-cereals-producer-prices\"           : \"../data/fao/EU-Producer-Prices-Cereals.csv\",\n",
    "    \"fao-land-use\"                          : \"../data/fao/EU-Land-Use.csv\",\n",
    "    \"fao-total-energy-use\"                  : \"../data/fao/EU-Total-Energy-Use.csv\",\n",
    "    \"fao-cereals-export-import-idx\"             : \"../data/fao/EU-Trade-Indices-Cereals-Export-Import.csv\",\n",
    "    \"fao-agriculture-value-added\"           : \"../data/fao/EU-Value-Added-Agriculture.csv\",\n",
    "    \"fadn-subsides\"                         : \"../data/fadn/fadn-subsides-year-ms-region-crops.xlsx\",\n",
    "    \"fadn-summary\"                          : \"../data/fadn/fadn-custom-summary.xlsx\",\n",
    "    \"fadn-rented-land\"                      : \"../data/fadn/sumary-year-ms-region-so.xlsx\",\n",
    "}\n"
   ]
  },
  {
   "cell_type": "code",
   "execution_count": 63,
   "metadata": {},
   "outputs": [],
   "source": [
    "def init_df():\n",
    "    eu = [\"BE\",\"BG\",\"CY\",\"CZ\",\"DK\",\"DE\",\"EL\",\"ES\",\"EE\",\"FR\",\"HR\",\"HU\",\"IE\",\"IT\",\"LT\",\"LV\",\"LU\",\"MT\",\"NL\",\"AT\",\"PL\",\"PT\",\"RO\",\"FI\",\"SE\",\"SK\",\"SI\"]\n",
    "    years = np.arange(start=2000,stop=2022,step=1)\n",
    "    # https://www.adamsmith.haus/python/answers/how-to-get-all-element-combinations-of-two-numpy-arrays-in-python\n",
    "    data = np.array(np.meshgrid(eu, years)).T.reshape(-1, 2)\n",
    "    df = pd.DataFrame(data, columns=[\"country\",\"year\"])\n",
    "    df[\"year\"] =df.year.astype(int)\n",
    "    return df\n",
    "\n",
    "def get_fao_dataset(dataset_name, query, value_col_name, aggfunc=\"mean\", usecols=[\"Area Code (ISO2)\",\"Year\",\"Element Code\",\"Item\",\"Value\"]):\n",
    "    df = pd.read_csv(crop_datasets[dataset_name], usecols=usecols);    \n",
    "    agg_df = df.query(query).groupby([\"Area Code (ISO2)\",\"Year\"])[\"Value\"].agg(aggfunc).reset_index()\n",
    "    agg_df.columns = [\"country\",\"year\",value_col_name]\n",
    "    return agg_df\n",
    "\n",
    "def get_fand_dataset(dataset_name, columns):\n",
    "    df = pd.read_excel(crop_datasets[dataset_name]);\n",
    "    df = df.query(\"`8 Types of Farming` == '(1) Fieldcrops'\")\n",
    "    df = df.drop(columns=[\"Member State\",\"8 Types of Farming\",\"Region\", \"(SYS03) Sample farms\"])\n",
    "    df = df.rename(columns={\"ISO2\":\"country\", \"Year\":\"year\"})\n",
    "    df = df.replace('-',np.NaN)\n",
    "    df.columns = columns\n",
    "    return df\n",
    "\n",
    "agriculture_df = init_df()"
   ]
  },
  {
   "cell_type": "markdown",
   "metadata": {},
   "source": [
    "## FAO Datasets"
   ]
  },
  {
   "cell_type": "code",
   "execution_count": 64,
   "metadata": {},
   "outputs": [],
   "source": [
    "# crop_residues_kg\n",
    "agriculture_df = agriculture_df.merge(get_fao_dataset(\"fao-crop-residues\", \"`Element Code` == 72392\", \"crop_residues_kg\"), how=\"left\")\n",
    "\n",
    "# crop_production_idx\n",
    "agriculture_df = agriculture_df.merge(get_fao_dataset(\"fao-crop-production-idx\", \"`Element Code` == 432\", \"crop_production_idx\"), how=\"left\")\n",
    "\n",
    "# cereals_produce_price_usd_tonne\n",
    "agriculture_df = agriculture_df.merge(get_fao_dataset(\"fao-cereals-producer-prices\", \"`Element Code` == 5532\", \"cereals_produce_price_usd_tonne\"), how=\"left\")\n",
    "\n",
    "# employment_ratio_rural_areas_pct\n",
    "agriculture_df = agriculture_df.merge(get_fao_dataset(dataset_name=\"fao-employment-indicators-rural\",\n",
    "                                                        value_col_name=\"employment_ratio_rural_areas_pct\",\n",
    "                                                        usecols=[\"Area Code (ISO2)\",\"Year\",\"Indicator Code\",\"Sex\", \"Value\"],\n",
    "                                                        query=\"`Indicator Code` == 21069 & Sex == 'Total'\"), how=\"left\")\n",
    "# female_employment_ratio_rural_areas_pct\n",
    "agriculture_df = agriculture_df.merge(get_fao_dataset(dataset_name=\"fao-employment-indicators-rural\",\n",
    "                                                        value_col_name=\"female_employment_ratio_rural_areas_pct\",\n",
    "                                                        usecols=[\"Area Code (ISO2)\",\"Year\",\"Indicator Code\",\"Sex\", \"Value\"],\n",
    "                                                        query=\"`Indicator Code` == 21069 & Sex == 'Female'\"), how=\"left\")\n",
    "# male_employment_ratio_rural_areas_pct\n",
    "agriculture_df = agriculture_df.merge(get_fao_dataset(dataset_name=\"fao-employment-indicators-rural\",\n",
    "                                                        value_col_name=\"male_employment_ratio_rural_areas_pct\",\n",
    "                                                        usecols=[\"Area Code (ISO2)\",\"Year\",\"Indicator Code\",\"Sex\", \"Value\"],\n",
    "                                                        query=\"`Indicator Code` == 21069 & Sex == 'Male'\"), how=\"left\")\n",
    "# mean_weekly_working_hours\n",
    "agriculture_df = agriculture_df.merge(get_fao_dataset(dataset_name=\"fao-employment-indicators-agri-hours\",\n",
    "                                                        value_col_name=\"mean_weekly_working_hours\",\n",
    "                                                        usecols=[\"Area Code (ISO2)\",\"Year\",\"Indicator Code\",\"Sex\", \"Value\"],\n",
    "                                                        query=\"`Indicator Code` == 21150 & Sex == 'Total'\"), how=\"left\")\n",
    "\n",
    "# female_mean_weekly_working_hours\n",
    "agriculture_df = agriculture_df.merge(get_fao_dataset(dataset_name=\"fao-employment-indicators-agri-hours\",\n",
    "                                                        value_col_name=\"female_mean_weekly_working_hours\",\n",
    "                                                        usecols=[\"Area Code (ISO2)\",\"Year\",\"Indicator Code\",\"Sex\", \"Value\"],\n",
    "                                                        query=\"`Indicator Code` == 21150 & Sex == 'Female'\"), how=\"left\")\n",
    "\n",
    "# male_mean_weekly_working_hours\n",
    "agriculture_df = agriculture_df.merge(get_fao_dataset(dataset_name=\"fao-employment-indicators-agri-hours\",\n",
    "                                                        value_col_name=\"male_mean_weekly_working_hours\",\n",
    "                                                        usecols=[\"Area Code (ISO2)\",\"Year\",\"Indicator Code\",\"Sex\", \"Value\"],\n",
    "                                                        query=\"`Indicator Code` == 21150 & Sex == 'Male'\"), how=\"left\")\n",
    "\n",
    "# crop_land_use_1000ha\n",
    "agriculture_df = agriculture_df.merge(get_fao_dataset(\"fao-land-use\", \"`Element Code` == 5110\", \"crop_land_use_1000ha\"), how=\"left\")\n",
    "\n",
    "# agri_energy_use_tj\n",
    "agriculture_df = agriculture_df.merge(get_fao_dataset(\"fao-total-energy-use\", \"`Element Code` == 72184\", \"agri_energy_use_tj\"), how=\"left\")\n",
    "\n",
    "# avg_import_idx\n",
    "agriculture_df = agriculture_df.merge(get_fao_dataset(\"fao-cereals-export-import-idx\", \"`Element Code` == 465\", \"avg_import_idx\"), how=\"left\")\n",
    "\n",
    "# avg_export_idx\n",
    "agriculture_df = agriculture_df.merge(get_fao_dataset(\"fao-cereals-export-import-idx\", \"`Element Code` == 495\", \"avg_export_idx\"), how=\"left\")\n",
    "\n",
    "# value_added_agriculture\n",
    "agriculture_df = agriculture_df.merge(get_fao_dataset(\"fao-agriculture-value-added\", \"`Element Code` == 6110\", \"value_added_agriculture\"), how=\"left\")\n"
   ]
  },
  {
   "cell_type": "markdown",
   "metadata": {},
   "source": [
    "### FADN Dataset"
   ]
  },
  {
   "cell_type": "code",
   "execution_count": 69,
   "metadata": {},
   "outputs": [],
   "source": [
    "agriculture_df = agriculture_df.merge(get_fand_dataset(\"fadn-subsides\", [\"year\",\"country\",\"subsidies_on_crops_€\",\"compensatory_payments_area_€\",\"set_aside_premiums_€\",\"other_crops_subsidies_€\", \"farms_represented\"] ), how=\"left\")"
   ]
  },
  {
   "cell_type": "code",
   "execution_count": 73,
   "metadata": {},
   "outputs": [],
   "source": [
    "# fadn data available only from 2003\n",
    "agriculture_df = agriculture_df.query(\"year > 2003\")\n",
    "\n",
    "# set index\n",
    "agriculture_df = agriculture_df.set_index([\"country\",\"year\"])\n",
    "\n",
    "# drop all rows wit no values\n",
    "agriculture_df = agriculture_df.drop(agriculture_df[agriculture_df.isna().all(axis=1) == True].index)"
   ]
  },
  {
   "cell_type": "code",
   "execution_count": 104,
   "metadata": {},
   "outputs": [
    {
     "data": {
      "text/plain": [
       "crop_residues_kg                            90\n",
       "crop_production_idx                         92\n",
       "cereals_produce_price_usd_tonne             83\n",
       "employment_ratio_rural_areas_pct           220\n",
       "female_employment_ratio_rural_areas_pct    222\n",
       "male_employment_ratio_rural_areas_pct      221\n",
       "mean_weekly_working_hours                   64\n",
       "female_mean_weekly_working_hours            83\n",
       "male_mean_weekly_working_hours              64\n",
       "crop_land_use_1000ha                       214\n",
       "agri_energy_use_tj                          90\n",
       "avg_import_idx                              64\n",
       "avg_export_idx                              64\n",
       "value_added_agriculture                    326\n",
       "subsidies_on_crops_€                       174\n",
       "compensatory_payments_area_€               174\n",
       "set_aside_premiums_€                       174\n",
       "other_crops_subsidies_€                    174\n",
       "farms_represented                           41\n",
       "dtype: int64"
      ]
     },
     "execution_count": 104,
     "metadata": {},
     "output_type": "execute_result"
    }
   ],
   "source": [
    "agriculture_df.isna().sum()"
   ]
  },
  {
   "cell_type": "code",
   "execution_count": null,
   "metadata": {},
   "outputs": [],
   "source": []
  }
 ],
 "metadata": {
  "interpreter": {
   "hash": "8c05728b5209f9bac5f2c8d5560e4b0392a10986a6d1a786d0ae84adef5e2173"
  },
  "kernelspec": {
   "display_name": "Python 3.9.12 ('ca2_env')",
   "language": "python",
   "name": "python3"
  },
  "language_info": {
   "codemirror_mode": {
    "name": "ipython",
    "version": 3
   },
   "file_extension": ".py",
   "mimetype": "text/x-python",
   "name": "python",
   "nbconvert_exporter": "python",
   "pygments_lexer": "ipython3",
   "version": "3.9.12"
  },
  "orig_nbformat": 4
 },
 "nbformat": 4,
 "nbformat_minor": 2
}
